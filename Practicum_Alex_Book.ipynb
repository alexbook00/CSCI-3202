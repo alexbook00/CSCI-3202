{
 "cells": [
  {
   "cell_type": "markdown",
   "metadata": {},
   "source": [
    "# CSCI 3202, Spring 2020: Practicum\n",
    "\n",
    "---\n",
    "\n",
    "\n",
    "This practicum is due on Moodle by **11:59 PM on Friday May 1 2020**.  Your solutions to theoretical questions should be done in Markdown/LateX directly below the associated question. Your solutions to computational questions should include any relevant Python code, as well as results and any written commentary.\n",
    "\n",
    "**The rules:**\n",
    "\n",
    "1. All work, code and analysis must be **your own**.\n",
    "1. You may use your course notes, posted lecture slides, textbook, in-class notebooks and homework solutions as resources.  You may also search online for answers to general knowledge questions, like the form of a probability distribution function, or how to perform a particular operation in Python.\n",
    "1. You may **not** post to message boards or other online resources asking for help.\n",
    "1. **You may not collaborate with classmates or anyone else.**\n",
    "1. This is meant to be like a coding portion of your final exam. So, I will be much less helpful than I typically am with homework. For example, I will not check answers, help debug your code, and so on.\n",
    "1. If you have a question, post it first as a **private** Piazza message. If I decide that it is appropriate for the entire class, then I will make it a public post (and anonymous).\n",
    "1. If something is left open-ended, it is probably because I intend for you to code it up however you want, and only care about the plots/analysis I see at the end. Feel free to ask clarifying questions though.\n",
    "\n",
    "Violation of these rules will result in an **F** and a trip to the Honor Code council.\n",
    "\n",
    "---\n",
    "**By writing your name below, you agree to abide by these rules:**\n",
    "\n",
    "**Your name:** Alex Book\n",
    "\n",
    "---\n"
   ]
  },
  {
   "cell_type": "code",
   "execution_count": 1,
   "metadata": {},
   "outputs": [],
   "source": [
    "import pandas as pd\n",
    "import numpy as np\n",
    "import scipy\n",
    "import scipy.stats as stats\n",
    "import matplotlib.pyplot as plt\n",
    "from collections import defaultdict\n",
    "\n",
    "# added packages\n",
    "import heapq\n",
    "from matplotlib import colors\n",
    "\n",
    "from pprint import pprint"
   ]
  },
  {
   "cell_type": "markdown",
   "metadata": {},
   "source": [
    "---\n",
    "## [50 pts] Problem 1:  Route-finding\n",
    "\n",
    "Consider the map of the area to the west of the Engineering Center given below, with a fairly coarse Cartesian grid superimposed.\n",
    "\n",
    "<img src=\"http://www.cs.colorado.edu/~tonyewong/home/resources/engineering_center_grid_zoom.png\" style=\"width: 800px;\"/>\n",
    "\n",
    "The green square at $(x,y)=(1,15)$ is the starting location, and you would like to walk from there to the yellow square at $(25,9)$ with the **shortest total path length**. The filled-in blue squares are obstacles, and you cannot walk through those locations.  You also cannot walk outside of this grid.\n",
    "\n",
    "Legal moves in the North/South/East/West directions have a step cost of 1. Moves in the diagonal direction (for example, from $(1,15)$ to $(2,14)$) are allowed, but they have a step cost of $\\sqrt{2}$. \n",
    "\n",
    "Of course, you can probably do this problem (and likely have to some degree, in your head) without a search algorithm. But that will hopefully provide a useful \"sanity check\" for your answer.\n",
    "\n",
    "#### Part A\n",
    "Write a function `adjacent_states(state)`:\n",
    "* takes a single argument `state`, which is a tuple representing a valid state in this state space\n",
    "* returns in some form the states reachable from `state` and the step costs. How exactly you do this is up to you.\n",
    "\n",
    "Print to the screen the output for `adjacent_states((1,15))`."
   ]
  },
  {
   "cell_type": "code",
   "execution_count": 2,
   "metadata": {},
   "outputs": [],
   "source": [
    "grid = np.array([[0, 0, 0, 0, 1, 1, 1, 1, 1, 1, 1, 1, 1, 1, 1, 1, 1, 1, 1, 1, 1, 1, 1, 0, 0],\n",
    "                 [1, 0, 0, 0, 0, 0, 0, 0, 0, 0, 0, 0, 0, 0, 0, 0, 0, 0, 0, 0, 0, 0, 0, 0, 0],\n",
    "                 [1, 1, 0, 0, 0, 0, 0, 0, 0, 0, 0, 0, 0, 0, 0, 0, 0, 0, 0, 0, 0, 0, 0, 0, 0],\n",
    "                 [1, 1, 1, 0, 0, 0, 0, 0, 0, 0, 0, 0, 0, 0, 0, 0, 0, 0, 0, 0, 0, 0, 0, 0, 0],\n",
    "                 [1, 1, 1, 1, 0, 0, 0, 0, 0, 0, 0, 0, 0, 0, 0, 0, 0, 0, 0, 0, 0, 0, 0, 0, 0],\n",
    "                 [1, 1, 1, 1, 0, 0, 0, 0, 0, 0, 0, 0, 0, 0, 0, 0, 0, 0, 0, 0, 0, 0, 0, 0, 0],\n",
    "                 [1, 1, 1, 1, 0, 0, 0, 0, 0, 0, 0, 0, 0, 0, 0, 0, 0, 0, 0, 0, 0, 0, 0, 0, 0],\n",
    "                 [1, 1, 1, 1, 0, 0, 0, 0, 0, 0, 0, 0, 0, 0, 0, 0, 0, 0, 0, 0, 0, 0, 0, 0, 0],\n",
    "                 [1, 1, 1, 1, 0, 0, 0, 0, 0, 1, 1, 1, 1, 0, 0, 0, 0, 0, 0, 0, 0, 0, 0, 0, 0],\n",
    "                 [1, 1, 1, 1, 0, 0, 0, 0, 0, 1, 1, 1, 1, 0, 0, 0, 0, 0, 0, 0, 0, 0, 0, 0, 0],\n",
    "                 [1, 1, 1, 1, 0, 0, 0, 0, 0, 1, 1, 1, 1, 1, 0, 0, 0, 0, 0, 0, 1, 1, 1, 1, 1],\n",
    "                 [1, 1, 1, 0, 0, 0, 0, 0, 0, 1, 1, 1, 1, 1, 0, 0, 0, 0, 0, 0, 1, 1, 1, 1, 1],\n",
    "                 [1, 1, 0, 0, 0, 0, 0, 0, 0, 0, 1, 1, 1, 1, 0, 0, 0, 0, 0, 0, 1, 1, 1, 1, 1],\n",
    "                 [1, 0, 0, 0, 0, 0, 0, 0, 0, 0, 1, 1, 1, 1, 0, 0, 0, 0, 0, 0, 1, 1, 1, 1, 1],\n",
    "                 [0, 0, 0, 0, 0, 0, 0, 0, 0, 0, 0, 0, 0, 0, 0, 0, 0, 0, 0, 0, 1, 1, 1, 1, 1],\n",
    "                 [0, 0, 0, 0, 0, 0, 0, 0, 0, 0, 0, 0, 0, 0, 0, 0, 0, 0, 0, 0, 1, 1, 1, 1, 1]])\n",
    "\n",
    "# grid2 = np.flipud(grid)\n",
    "# print(grid2)"
   ]
  },
  {
   "cell_type": "code",
   "execution_count": 3,
   "metadata": {},
   "outputs": [
    {
     "name": "stdout",
     "output_type": "stream",
     "text": [
      "[[(1, 16), 1],\n",
      " [(2, 16), 1.4142135623730951],\n",
      " [(2, 15), 1],\n",
      " [(2, 14), 1.4142135623730951]]\n"
     ]
    }
   ],
   "source": [
    "def flip_coords(loc):\n",
    "    i, j = loc\n",
    "    return (j,i)\n",
    "\n",
    "def adjacent_states(state):\n",
    "    i, j = state\n",
    "    def check_neighbor(a, b):\n",
    "        if a < 1 or b < 1 or a > 25 or b > 16 or grid[b-1][a-1] == 1:\n",
    "            return False\n",
    "        else:\n",
    "            return True\n",
    "    ans = []\n",
    "    neighbors = [[(i, j+1), 1],\n",
    "                 [(i+1, j+1), np.sqrt(2)],\n",
    "                 [(i+1, j), 1],\n",
    "                 [(i+1, j-1), np.sqrt(2)],\n",
    "                 [(i, j-1), 1],\n",
    "                 [(i-1, j-1), np.sqrt(2)],\n",
    "                 [(i-1, j), 1],\n",
    "                 [(i-1, j+1), np.sqrt(2)]]\n",
    "    \n",
    "    for n in neighbors:\n",
    "        if check_neighbor(n[0][0], n[0][1]):\n",
    "            ans.append(n)\n",
    "        \n",
    "    return ans\n",
    "\n",
    "pprint(adjacent_states((1,15)))"
   ]
  },
  {
   "cell_type": "markdown",
   "metadata": {},
   "source": [
    "#### Part B\n",
    "Three candidate heuristic functions might be:\n",
    "1. `heuristic_cols(state, goal)` = number of columns between the argument `state` and the `goal`\n",
    "1. `heuristic_rows(state, goal)` = number of rows between the argument `state` and the `goal`\n",
    "1. `heuristic_eucl(state, goal)` = Euclidean distance between the argument `state` and the `goal`\n",
    "\n",
    "Write a function `heuristic_max(state, goal)` that returns the maximum of all three of these heuristic functions for a given `state` and `goal`."
   ]
  },
  {
   "cell_type": "code",
   "execution_count": 4,
   "metadata": {},
   "outputs": [],
   "source": [
    "def heuristic_cols(state, goal):\n",
    "    return abs(state[0] - goal[0])\n",
    "\n",
    "def heuristic_rows(state, goal):\n",
    "    return abs(state[1] - goal[1])\n",
    "\n",
    "def heuristic_eucl(state, goal):\n",
    "    a, b = state\n",
    "    x, y = goal\n",
    "    return np.sqrt((x-a)**2 + (y-b)**2)\n",
    "\n",
    "def heuristic_max(state, goal):\n",
    "    return max(heuristic_cols(state, goal), \n",
    "               heuristic_rows(state, goal), \n",
    "               heuristic_eucl(state, goal))"
   ]
  },
  {
   "cell_type": "markdown",
   "metadata": {},
   "source": [
    "#### Part C\n",
    "Is the Manhattan distance an admissible heuristic function for this problem?  Explain why or why not."
   ]
  },
  {
   "cell_type": "markdown",
   "metadata": {},
   "source": [
    "Manhattan distance is not an admissible heuristic because it can overestimate the cost of reaching the goal state. For example, say we're starting at (1,1) and trying to get to (2,2). The Manhattan distance gives a distance (cost) of 2, while the true distance (cost) is $\\sqrt{2}$ (moving diagonally instead of two separate linear moves)."
   ]
  },
  {
   "cell_type": "markdown",
   "metadata": {},
   "source": [
    "#### Part D\n",
    "Use A\\* search and the `heuristic_max` heuristic to find the shortest path from the initial state at $(1,15)$ to the goal state at $(25,9)$. Your search **should not** build up the entire state space graph in memory. Instead, use the `adjacent_states` function from Part A, similarly to the 8-tile problem from Homework 3."
   ]
  },
  {
   "cell_type": "code",
   "execution_count": 5,
   "metadata": {},
   "outputs": [
    {
     "name": "stdout",
     "output_type": "stream",
     "text": [
      "([(1, 15),\n",
      "  (2, 15),\n",
      "  (3, 15),\n",
      "  (4, 15),\n",
      "  (5, 15),\n",
      "  (6, 15),\n",
      "  (7, 15),\n",
      "  (8, 15),\n",
      "  (9, 15),\n",
      "  (10, 15),\n",
      "  (11, 15),\n",
      "  (12, 15),\n",
      "  (13, 15),\n",
      "  (14, 15),\n",
      "  (15, 14),\n",
      "  (16, 13),\n",
      "  (17, 13),\n",
      "  (18, 12),\n",
      "  (19, 12),\n",
      "  (20, 11),\n",
      "  (21, 10),\n",
      "  (22, 10),\n",
      "  (23, 10),\n",
      "  (24, 9),\n",
      "  (25, 9)],\n",
      " 26.485281374238575)\n"
     ]
    }
   ],
   "source": [
    "class Frontier_PQ:\n",
    "    ''' frontier class for uniform search, ordered by path cost '''\n",
    "    \n",
    "    def __init__(self, start, cost):\n",
    "        self.states = {}\n",
    "        self.q = []\n",
    "        self.add(start, cost)\n",
    "        \n",
    "    def add(self, state, cost):\n",
    "        ''' push the new state and cost to get there onto the heap'''\n",
    "        heapq.heappush(self.q, (cost, state))\n",
    "        self.states[state] = cost\n",
    "\n",
    "    def pop(self):\n",
    "        (cost, state) = heapq.heappop(self.q)  # get cost of getting to explored state\n",
    "        self.states.pop(state)    # and remove from frontier\n",
    "        return (cost, state)\n",
    "\n",
    "    def replace(self, state, cost):\n",
    "        ''' found a cheaper route to `state`, replacing old cost with new `cost` '''\n",
    "        self.states[state] = cost\n",
    "        for i, (oldcost, oldstate) in enumerate(self.q):\n",
    "            if oldstate==state and oldcost > cost:\n",
    "                self.q[i] = (cost, state)\n",
    "                heapq._siftdown(self.q, 0, i) # now i is posisbly out of order; restore\n",
    "        return\n",
    "\n",
    "def path(previous, s): \n",
    "    if s is None:\n",
    "        return []\n",
    "    else:\n",
    "        return path(previous, previous[s])+[s]\n",
    "\n",
    "def pathcost(path, step_costs):\n",
    "    cost = 0\n",
    "    if len(path) == 0:\n",
    "        return cost\n",
    "    else:\n",
    "        for s in range(len(path)-1):\n",
    "            cost += step_costs(path[s], path[s+1])\n",
    "        return cost\n",
    "    \n",
    "def astar_search(start, goal, heuristic):\n",
    "    frontier = Frontier_PQ(start, 0)\n",
    "    explored = {}\n",
    "    prev = {start : None}\n",
    "    \n",
    "    while frontier.q:\n",
    "        cost, curr = frontier.pop()\n",
    "        explored[curr] = pathcost(path(prev, curr), heuristic)\n",
    "        if curr == goal:\n",
    "            return path(prev, curr), explored[curr]\n",
    "        for adj in adjacent_states(curr):\n",
    "            adj_node = adj[0]\n",
    "            cost_curr_to_adj = adj[1]\n",
    "            newcost = explored[curr] + cost_curr_to_adj + heuristic(adj_node, goal)\n",
    "            if (adj_node not in explored) and (adj_node not in frontier.states):\n",
    "                frontier.add(adj_node, newcost)\n",
    "                prev[adj_node] = curr\n",
    "                \n",
    "answer = astar_search((1,15), (25,9), heuristic_max)\n",
    "pprint(answer)"
   ]
  },
  {
   "cell_type": "markdown",
   "metadata": {},
   "source": [
    "#### Part E\n",
    "Make a figure depicting the optimal route from the initial state to the goal, similarly to how you depicted the maze solution in Homework 2."
   ]
  },
  {
   "cell_type": "code",
   "execution_count": 6,
   "metadata": {},
   "outputs": [
    {
     "data": {
      "text/plain": [
       "<matplotlib.image.AxesImage at 0x20efad62d08>"
      ]
     },
     "execution_count": 6,
     "metadata": {},
     "output_type": "execute_result"
    },
    {
     "data": {
      "text/plain": [
       "<Figure size 1800x1152 with 0 Axes>"
      ]
     },
     "metadata": {},
     "output_type": "display_data"
    },
    {
     "data": {
      "image/png": "[encoded data removed]",
      "text/plain": [
       "<Figure size 450x288 with 1 Axes>"
      ]
     },
     "metadata": {
      "needs_background": "light"
     },
     "output_type": "display_data"
    }
   ],
   "source": [
    "grid_ans = grid\n",
    "tiles, final_cost = answer\n",
    "for x in tiles:\n",
    "    grid_ans[x[1]-1][x[0]-1] = 2\n",
    "\n",
    "grid_ans=np.flipud(grid_ans)\n",
    "\n",
    "cmap = colors.ListedColormap(['white', 'darkblue', 'green'])\n",
    "plt.figure(figsize=(25,16))\n",
    "plt.matshow(grid_ans, cmap=cmap)"
   ]
  },
  {
   "cell_type": "markdown",
   "metadata": {},
   "source": [
    "\n",
    "---\n",
    "## [50 pts] Problem 2:  Bayesian networks\n",
    "\n",
    "#### Part A\n",
    "In this problem, we are going to construct our own Bayesian Network. The probabilities are not given outright. You will use the data file mentioned below to determine the appropriate probability distributions for each node in the Bayes net. \n",
    "\n",
    "Suppose we are about to go on a run and are trying to decide how far to run. Consider the Bayesian network depicted below for this decision. The length of our run ($R$, miles) is continuous and depends on the temperature ($T$, degrees Fahrenheit), which is also a continuous variable, and whether or not it is raining ($P$), which is a discrete Boolean variable.\n",
    "\n",
    "<img src=\"http://www.cs.colorado.edu/~tonyewong/home/resources/running_bayesnet.png\" style=\"width: 450px;\"/>\n",
    "\n",
    "1. Read in the data set [`data_running.csv`] from the Final Practicum Moodle folder. Read in the file as a pandas data frame.\n",
    "\n",
    "Answer/Complete the following:\n",
    "1. How many data points are there?\n",
    "1. Make a histogram of the distribution of temperature, with appropriate axis labels."
   ]
  },
  {
   "cell_type": "code",
   "execution_count": 7,
   "metadata": {},
   "outputs": [
    {
     "name": "stdout",
     "output_type": "stream",
     "text": [
      "There are 200 data points.\n"
     ]
    },
    {
     "data": {
      "text/plain": [
       "Text(0, 0.5, 'Occurences')"
      ]
     },
     "execution_count": 7,
     "metadata": {},
     "output_type": "execute_result"
    },
    {
     "data": {
      "image/png": "[encoded data removed]",
      "text/plain": [
       "<Figure size 720x360 with 1 Axes>"
      ]
     },
     "metadata": {
      "needs_background": "light"
     },
     "output_type": "display_data"
    }
   ],
   "source": [
    "df = pd.read_csv('data_running.csv')\n",
    "print('There are {} data points.'.format(len(df)))\n",
    "\n",
    "fig, axes = plt.subplots(figsize=(10,5))\n",
    "hist = df.hist(column='temperature', ax=axes)\n",
    "axes.set_title('Temperature Distribution')\n",
    "axes.set_xlabel('Temperature')\n",
    "axes.set_ylabel('Occurences')"
   ]
  },
  {
   "cell_type": "markdown",
   "metadata": {},
   "source": [
    "#### Part B\n",
    "\n",
    "Using the data from the file in **Part A**, decide on appropriate prior distributions for $P$ and $T$.  Note that $P$ is discrete (Boolean), while $T$ is continuous.  \n",
    "\n",
    "Further guidance on what I am asking:\n",
    "\n",
    "So, for the distribution of $P$, you must determine P(P=True) and P(P=False). \n",
    "\n",
    "For T, study the histogram from **Part A**. Does the shape of the histogram remind you of any probability distribution you've seen before? We haven't seen a continuous probability distribution in class. However, the idea is the same as a discrete probability distribution. \n",
    "\n",
    "Continuous dsitributions you may or may not have encountered: Exponential, Uniform, Weibull, Normal, Chi-Squared, Logistic, Student-T, F. \n",
    "\n",
    "Choose a continuous distribution that fits $T$ and specify the appropriate parameters.\n"
   ]
  },
  {
   "cell_type": "code",
   "execution_count": 8,
   "metadata": {},
   "outputs": [
    {
     "name": "stdout",
     "output_type": "stream",
     "text": [
      "P(P=True) = 0.24\n",
      "P(P=False) = 0.76\n",
      "T can be represented by a normal distribution with a mean of 74.29234661280584 and a standard deviation of 13.456251867760999.\n"
     ]
    }
   ],
   "source": [
    "rain_counts = df['rain'].value_counts(normalize=True)\n",
    "print('P(P=True) = {}'.format(rain_counts[1]))\n",
    "print('P(P=False) = {}'.format(rain_counts[0]))\n",
    "\n",
    "print('T can be represented by a normal distribution with a mean of {} and a standard deviation of {}.'.format(\n",
    "    stats.norm.fit(df['temperature'])[0], stats.norm.fit(df['temperature'])[1]))"
   ]
  },
  {
   "cell_type": "markdown",
   "metadata": {},
   "source": [
    "#### Part C\n",
    "\n",
    "Make two scatter plots:  one of the relationship between temperature (x-axis) and run length (y-axis) for only the days when it was raining, and one of this relationship for only the days when it was not raining. Label your axes appropriately. All of this data is contained in the csv file that you read in for **Part A**.\n"
   ]
  },
  {
   "cell_type": "code",
   "execution_count": 9,
   "metadata": {},
   "outputs": [
    {
     "data": {
      "image/png": "[encoded data removed]",
      "text/plain": [
       "<Figure size 432x288 with 1 Axes>"
      ]
     },
     "metadata": {
      "needs_background": "light"
     },
     "output_type": "display_data"
    },
    {
     "data": {
      "image/png": "[encoded data removed]",
      "text/plain": [
       "<Figure size 432x288 with 1 Axes>"
      ]
     },
     "metadata": {
      "needs_background": "light"
     },
     "output_type": "display_data"
    }
   ],
   "source": [
    "when_raining = df[df.rain == 'Yes']\n",
    "when_not = df[df.rain == 'No']\n",
    "y = when_raining.plot.scatter(x='temperature', y='length', title='Temperature vs. Run length (When raining)')\n",
    "n = when_not.plot.scatter(x='temperature', y='length', title='Temperature vs. Run length (When not raining)')"
   ]
  },
  {
   "cell_type": "markdown",
   "metadata": {},
   "source": [
    "#### Part D:\n",
    "\n",
    "This part is done for you as we didn't explicitly talk about regression in this class. Regression is likely a concept you've encountered in previous classes, so please review what's done here and make sure you understand before proceeding.\n",
    "\n",
    "Now, we need to specify the Conditional Probability table for Run length, R. Run length is necessarily non-negative, so we use a log-normal distribution as the conditional probability distribution for $R$, given $P$ and $T$. Let the log-normal parameter related to central tendency vary linearly with $T$, and categorically depending on whether or not it is raining. Keep the log-normal parameter related to distribution spread fixed. \n",
    "\n",
    "Lastly, we report the values of all relevant estimated parameters for the conditional probability distribution. "
   ]
  },
  {
   "cell_type": "code",
   "execution_count": 10,
   "metadata": {},
   "outputs": [
    {
     "name": "stdout",
     "output_type": "stream",
     "text": [
      "Log-linear regression with no rain: intercept=1.9087, slope=0.0049\n",
      "Log-linear regression with rain: intercept=1.9185, slope=0.0014\n",
      "Estimate of spread, regardless of rain: 0.1396\n"
     ]
    }
   ],
   "source": [
    "dfRun = pd.read_csv('data_running.csv')\n",
    "\n",
    "# We are doing a simple linear regression for log(R) = alpha + beta*T, \n",
    "# where different alpha and beta are estimated for +Rain and -Rain.\n",
    "\n",
    "lr_no = stats.linregress(dfRun.loc[dfRun['rain']=='No','temperature'], np.log(dfRun.loc[dfRun['rain']=='No','length']))\n",
    "lr_yes = stats.linregress(dfRun.loc[dfRun['rain']=='Yes','temperature'], np.log(dfRun.loc[dfRun['rain']=='Yes','length']))\n",
    "alpha_no, beta_no = lr_no.intercept, lr_no.slope\n",
    "alpha_yes, beta_yes = lr_yes.intercept, lr_yes.slope\n",
    "sigma = np.std(np.log(dfRun['length']))\n",
    "\n",
    "# report the parameter fits\n",
    "print('Log-linear regression with no rain: intercept={:0.4f}, slope={:0.4f}'.format(alpha_no, beta_no))\n",
    "print('Log-linear regression with rain: intercept={:0.4f}, slope={:0.4f}'.format(alpha_yes, beta_yes))\n",
    "print('Estimate of spread, regardless of rain: {:0.4f}'.format(sigma))"
   ]
  },
  {
   "cell_type": "markdown",
   "metadata": {},
   "source": [
    "#### Part E\n",
    "\n",
    "The following code graphs out conditional probability distributions for R given a specific temperature and rain versus no rain. \n",
    "\n",
    "Specifically the graphs show the probability distributions for your run length on a day that is 80 degrees Fahrenheit and not raining, as well as run length on an 80-degree day when it is raining.  These two distributions are plotted on the same set of axes, with run length (miles) on the x-axis and probability density on the y-axis. "
   ]
  },
  {
   "cell_type": "code",
   "execution_count": 11,
   "metadata": {},
   "outputs": [
    {
     "data": {
      "image/png": "[encoded data removed]",
      "text/plain": [
       "<Figure size 432x288 with 1 Axes>"
      ]
     },
     "metadata": {
      "needs_background": "light"
     },
     "output_type": "display_data"
    }
   ],
   "source": [
    "r = np.arange(0.25,15.25,0.25)\n",
    "mu_no = alpha_no + beta_no*80\n",
    "pdf_no = [stats.lognorm.pdf(x=rx, scale=np.exp(mu_no), s=sigma) for rx in r]\n",
    "mu_yes = alpha_yes + beta_yes*80\n",
    "pdf_yes = [stats.lognorm.pdf(x=rx, scale=np.exp(mu_yes), s=sigma) for rx in r]\n",
    "\n",
    "plt.plot(r, pdf_no, label='No rain')\n",
    "plt.plot(r, pdf_yes, label='Rain')\n",
    "plt.xlabel('Length of run [miles]')\n",
    "plt.ylabel('Probability density [-]')\n",
    "plt.legend()\n",
    "plt.show()"
   ]
  },
  {
   "cell_type": "markdown",
   "metadata": {},
   "source": [
    "Given this, find the following:\n",
    "- $P(R = 8 | P=T, Temp = 70)$\n",
    "- $P(R = 8 | P=F, Temp = 70)$\n",
    "\n",
    "Note: What's given about is an example of all of the probability values for R when the temperature is 80 degrees. Your task is to figure out how to compute the specific probabilities I've asked about."
   ]
  },
  {
   "cell_type": "code",
   "execution_count": 12,
   "metadata": {},
   "outputs": [
    {
     "name": "stdout",
     "output_type": "stream",
     "text": [
      "P(R=8 | P=T, Temp=70): 0.6664454099352031\n",
      "P(R=8 | P=F, Temp=70): 0.10996237729192943\n"
     ]
    }
   ],
   "source": [
    "# Your code here.\n",
    "mu_no = alpha_no + beta_no*70\n",
    "pdf_no = stats.lognorm.cdf(x=8, scale=np.exp(mu_no), s=sigma)\n",
    "mu_yes = alpha_yes + beta_yes*70\n",
    "pdf_yes = stats.lognorm.cdf(x=8, scale=np.exp(mu_yes), s=sigma)\n",
    "\n",
    "print('P(R=8 | P=T, Temp=70): {}'.format(pdf_yes))\n",
    "print('P(R=8 | P=F, Temp=70): {}'.format(pdf_no))"
   ]
  },
  {
   "cell_type": "markdown",
   "metadata": {},
   "source": [
    "#### Part F\n",
    "\n",
    "If you made it this far, we now have a working Bayesian Network with the CPTs specified!\n",
    "\n",
    "Now we will get a chance to actually perform sampling from a Bayesian Network. I briefly talked about this in lecture, but I will walk you through the steps. It's a really cool way to use a Bayesian Network. Please read the comments in the code below and fill in where indicated. Specifically, look for the \"# Your code here.\" comments.\n",
    "\n",
    "We are going to estimate the probability of going on a run **at least** 8 miles in length. "
   ]
  },
  {
   "cell_type": "code",
   "execution_count": 13,
   "metadata": {},
   "outputs": [
    {
     "name": "stdout",
     "output_type": "stream",
     "text": [
      "Probability of a run greater than or equal to 8 miles: 0.7336\n"
     ]
    }
   ],
   "source": [
    "# We will be taking 10,000 random samples from our Bayesian Network.\n",
    "n_iter = 10000\n",
    "\n",
    "# The following line is specifying the threshold run length.\n",
    "rlength = 8\n",
    "\n",
    "# Select 10,000 random samples from P prior\n",
    "# So that we all have the similar answers, set P(rain=True) = 0.3 and\n",
    "# set P(rain=False) = 0.7\n",
    "# Hint: you are sampling from a Boolean array with the specified \n",
    "# probabilities.\n",
    "rain = stats.bernoulli.rvs(p=.3, size=n_iter) # Your code here.\n",
    "\n",
    "# Select 10,000 random samples from T prior\n",
    "avg, st_dev = stats.norm.fit(df['temperature'])\n",
    "temp = stats.norm.rvs(scale=st_dev, size=n_iter, loc=avg) # Your code here.\n",
    "\n",
    "# sample from R | P,T conditional distribution\n",
    "# Done for you.\n",
    "run_length = []\n",
    "for k in range(n_iter):\n",
    "    mu = alpha_yes + beta_yes*temp[k] if rain[k] else alpha_no + beta_no*temp[k]\n",
    "    run_length.append(stats.lognorm.rvs(scale=np.exp(mu), s=sigma))\n",
    "\n",
    "# Create a data frame with columns for rain, temp, and length. \n",
    "# The values from the rain column should be the random samples from above.\n",
    "# The values from the temp column should be the random samples above.\n",
    "# The values in the length column should be the run_length values from above.\n",
    "\n",
    "dfSample = pd.DataFrame({'rain': rain, 'temperature': temp, 'length': run_length}) # Your code here.\n",
    "\n",
    "# Using your dfSample dataframe, compute the probability of a run\n",
    "# greater than or equal to 8 miles.\n",
    "\n",
    "# Your code here.\n",
    "print('Probability of a run greater than or equal to 8 miles: {}'.format(len(dfSample[dfSample.length >= 8])/n_iter))"
   ]
  },
  {
   "cell_type": "code",
   "execution_count": null,
   "metadata": {},
   "outputs": [],
   "source": []
  }
 ],
 "metadata": {
  "kernelspec": {
   "display_name": "Python 3",
   "language": "python",
   "name": "python3"
  },
  "language_info": {
   "codemirror_mode": {
    "name": "ipython",
    "version": 3
   },
   "file_extension": ".py",
   "mimetype": "text/x-python",
   "name": "python",
   "nbconvert_exporter": "python",
   "pygments_lexer": "ipython3",
   "version": "3.7.6"
  }
 },
 "nbformat": 4,
 "nbformat_minor": 2
}
