{
 "cells": [
  {
   "cell_type": "markdown",
   "metadata": {},
   "source": [
    "<a id='top'></a>\n",
    "\n",
    "# CSCI 3202, Spring 2020\n",
    "# Assignment 2\n",
    "# Due: Friday 14 February 2020 by 11:59 PM\n",
    "\n",
    "<br>\n",
    "\n",
    "### Your name: Alex Book\n",
    "\n",
    "<br>\n",
    "\n",
    "\n",
    "\n"
   ]
  },
  {
   "cell_type": "markdown",
   "metadata": {},
   "source": [
    "\n",
    "\n",
    "## Problem 1 (25 points)\n",
    "\n",
    "### Escape from Chicago\n",
    "\n",
    "It is the year 2030 and a freak earthquake has caused Chicago to break off from the mainland of Illinois. It has drifted out into Lake Michigan and is now used as a penal colony for the United States' worst criminals.  Snake Plisskin, world-famous tough guy and amateur sea lion enthusiast, must travel from Chicago to New York to find the antidote to the *Plutoxin 7 poison* that he and many other Chicagoans have been infected with.\n",
    "\n",
    "Below are crude graphs, representing the northeastern United States.  The graph on the left, **map_distances**, represents the step costs between two states on the graph (cities) using the distance between the two cities along major highways.  On the right, **map_times** represents the step costs using estimated travel time (at 5 PM on a Friday, east coast time).  These graphs are defined in the helper routines at below.\n",
    "\n",
    "If you take a look at those graphs, you will notice that for brevity's sake, we will use **lowercase** abbreviations for each city, consisting of the **first 3 letters** of the city's name.  So Providence is represented by the state 'pro', for example."
   ]
  },
  {
   "cell_type": "markdown",
   "metadata": {},
   "source": [
    "### Helper imports"
   ]
  },
  {
   "cell_type": "code",
   "execution_count": 1,
   "metadata": {},
   "outputs": [],
   "source": [
    "import numpy as np\n",
    "import matplotlib.pyplot as plt\n",
    "from matplotlib import colors\n",
    "from collections import deque\n",
    "import heapq\n",
    "import unittest\n",
    "from scipy import stats"
   ]
  },
  {
   "cell_type": "markdown",
   "metadata": {},
   "source": [
    "**map_distances**          |  **map_times**\n",
    ":-------------------------:|:-------------------------:\n",
    "<img src=\"http://drive.google.com/uc?export=view&id=1j6Kam3F7ET-aIzT-6KMxaW7D7r8WAOME\" alt=\"Drawing\" style=\"width: 550px;\"/>  | <img src=\"http://drive.google.com/uc?export=view&id=1rI5w8CuWOS9reMIewc2IDBp_Z3pSUu1H\" alt=\"Drawing\" style=\"width: 550px;\"/>"
   ]
  },
  {
   "cell_type": "markdown",
   "metadata": {},
   "source": [
    "### Useful helper routines for searching"
   ]
  },
  {
   "cell_type": "code",
   "execution_count": 2,
   "metadata": {},
   "outputs": [],
   "source": [
    "def path(previous, s): \n",
    "    '''\n",
    "    `previous` is a dictionary chaining together the predecessor state that led to each state\n",
    "    `s` will be None for the initial state\n",
    "    otherwise, start from the last state `s` and recursively trace `previous` back to the initial state,\n",
    "    constructing a list of states visited as we go\n",
    "    '''\n",
    "    if s is None:\n",
    "        return []\n",
    "    else:\n",
    "        return path(previous, previous[s])+[s]\n",
    "\n",
    "def pathcost(path, step_costs):\n",
    "    '''\n",
    "    add up the step costs along a path, which is assumed to be a list output from the `path` function above\n",
    "    '''\n",
    "    cost = 0\n",
    "    for s in range(len(path)-1):\n",
    "        cost += step_costs[path[s]][path[s+1]]\n",
    "    return cost"
   ]
  },
  {
   "cell_type": "code",
   "execution_count": 3,
   "metadata": {},
   "outputs": [],
   "source": [
    "map_distances = dict(\n",
    "    chi=dict(det=283, cle=345, ind=182),\n",
    "    cle=dict(chi=345, det=169, col=144, pit=134, buf=189),\n",
    "    ind=dict(chi=182, col=176),\n",
    "    col=dict(ind=176, cle=144, pit=185),\n",
    "    det=dict(chi=283, cle=169, buf=256),\n",
    "    buf=dict(det=256, cle=189, pit=215, syr=150),\n",
    "    pit=dict(col=185, cle=134, buf=215, phi=305, bal=247),\n",
    "    syr=dict(buf=150, phi=253, new=254, bos=312),\n",
    "    bal=dict(phi=101, pit=247),\n",
    "    phi=dict(pit=305, bal=101, syr=253, new=97),\n",
    "    new=dict(syr=254, phi=97, bos=215, pro=181),\n",
    "    pro=dict(bos=50, new=181),\n",
    "    bos=dict(pro=50, new=215, syr=312, por=107),\n",
    "    por=dict(bos=107))\n",
    "\n",
    "map_times = dict(\n",
    "    chi=dict(det=280, cle=345, ind=200),\n",
    "    cle=dict(chi=345, det=170, col=155, pit=145, buf=185),\n",
    "    ind=dict(chi=200, col=175),\n",
    "    col=dict(ind=175, cle=155, pit=185),\n",
    "    det=dict(chi=280, cle=170, buf=270),\n",
    "    buf=dict(det=270, cle=185, pit=215, syr=145),\n",
    "    pit=dict(col=185, cle=145, buf=215, phi=305, bal=255),\n",
    "    syr=dict(buf=145, phi=245, new=260, bos=290),\n",
    "    bal=dict(phi=145, pit=255),\n",
    "    phi=dict(pit=305, bal=145, syr=245, new=150),\n",
    "    new=dict(syr=260, phi=150, bos=270, pro=260),\n",
    "    pro=dict(bos=90, new=260),\n",
    "    bos=dict(pro=90, new=270, syr=290, por=120),\n",
    "    por=dict(bos=120))\n",
    "\n",
    "sld_providence = dict(\n",
    "    chi=833,\n",
    "    cle=531,\n",
    "    ind=782,\n",
    "    col=618,\n",
    "    det=596,\n",
    "    buf=385,\n",
    "    pit=458,\n",
    "    syr=253,\n",
    "    bal=325,\n",
    "    phi=236,\n",
    "    new=157,\n",
    "    pro=0,\n",
    "    bos=38,\n",
    "    por=136)\n",
    "\n",
    "def check_map(step_costs):\n",
    "    ''' function to check if all the path costs are at least symmetric '''\n",
    "    check_states = []\n",
    "    for state1 in step_costs.keys():\n",
    "        for state2 in step_costs[state1].keys():\n",
    "            uh_oh = step_costs[state2][state1]!=step_costs[state1][state2]\n",
    "            if uh_oh:\n",
    "                print('Check the costs between states {} and {}'.format(state1,state2))\n",
    "                check_states.append([state1,state2])\n",
    "    if len(check_states)==0:\n",
    "        print('all okay! (symmetric at least)')\n",
    "    return check_states"
   ]
  },
  {
   "cell_type": "markdown",
   "metadata": {},
   "source": [
    "<a id='p1a'></a>\n",
    "### (1a)\n",
    "\n",
    "#### Breadth-first search\n",
    "\n",
    "Implement a function **breadth_first(start, goal, state_graph, return_cost)** to search the state space (and step costs) defined by **state_graph** using breadth-first search:\n",
    "* **start**: initial state (e.g., 'ind')\n",
    "* **end**: goal state (e.g., 'bos')\n",
    "* **state_graph**: the dictionary defining the step costs (e.g., `map_distances`)\n",
    "* **return_cost**: logical input representing whether or not to return the solution path cost\n",
    "  * If **True**, then the output should be a tuple where the first value is the list representing the solution path and the second value is the path cost\n",
    "  * If **False**, then the only output is the solution path list object\n",
    "\n",
    "Note that in the helper functions, two useful routines for obtaining your solution path are provided (and can be used for all the search algorithms):\n",
    "  * **path(previous, s)**: returns a list representing a path to state **s**, where **previous** is a dictionary that maps predecessors (values) to successors (keys)\n",
    "  * **pathcost(path, step_costs)**: adds up the step costs defined by the **step_costs** graph (e.g., `map_distances`) along the list of states **path**"
   ]
  },
  {
   "cell_type": "code",
   "execution_count": 4,
   "metadata": {},
   "outputs": [],
   "source": [
    "# Your code here.\n",
    "def breadth_first(start, goal, state_graph, return_cost):\n",
    "    visited = {}\n",
    "    previous = {}\n",
    "    \n",
    "    for i in state_graph:\n",
    "        visited[i] = False\n",
    "    \n",
    "    queue = []\n",
    "    queue.append(start)\n",
    "    \n",
    "    visited[start] = True\n",
    "    previous[start] = None\n",
    "    \n",
    "    while queue:\n",
    "        curr = queue.pop(0)\n",
    "        if curr == goal and return_cost == True:\n",
    "            curr_path = path(previous, goal)\n",
    "            curr_cost = pathcost(curr_path, state_graph)\n",
    "            return curr_path, curr_cost\n",
    "        elif curr == goal and return_cost == False:\n",
    "            curr_path = path(previous, goal)\n",
    "            return curr_path\n",
    "        else:\n",
    "            for i in state_graph[curr]:\n",
    "                if visited[i] == False:\n",
    "                    queue.append(i)\n",
    "                    visited[i] = True\n",
    "                    previous[i] = curr"
   ]
  },
  {
   "cell_type": "code",
   "execution_count": 5,
   "metadata": {},
   "outputs": [
    {
     "name": "stdout",
     "output_type": "stream",
     "text": [
      "(['chi', 'det', 'buf', 'syr', 'new'], 943)\n"
     ]
    }
   ],
   "source": [
    "print(breadth_first(\"chi\", \"new\", map_distances, True))"
   ]
  },
  {
   "cell_type": "markdown",
   "metadata": {},
   "source": [
    "<a id='p1b'></a>\n",
    "### (1b)\n",
    "\n",
    "#### Depth-first search\n",
    "\n",
    "Implement a function **depth_first(start, goal, state_graph, return_cost)** to search the state space (and step costs) defined by **state_graph** using depth-first search:\n",
    "* **start**: initial state (e.g., 'ind')\n",
    "* **end**: goal state (e.g., 'bos')\n",
    "* **state_graph**: the dictionary defining the step costs (e.g., `map_distances`)\n",
    "* **return_cost**: logical input representing whether or not to return the solution path cost\n",
    "    * If **True**, then the output should be a tuple where the first value is the list representing the solution path and the second value is the path cost\n",
    "    * If **False**, then the only output is the solution path list object"
   ]
  },
  {
   "cell_type": "code",
   "execution_count": 6,
   "metadata": {},
   "outputs": [],
   "source": [
    "# Your code here.\n",
    "def depth_first(start, goal, state_graph, return_cost):\n",
    "    visited = {}\n",
    "    prev = {start:None}\n",
    "    \n",
    "    for i in state_graph:\n",
    "        visited[i] = False\n",
    "    \n",
    "    queue = []\n",
    "    queue.append(start)\n",
    "    \n",
    "    visited[start] = True\n",
    "    \n",
    "    while queue:\n",
    "        curr = queue.pop()\n",
    "        if curr == goal:\n",
    "            curr_path = path(prev, goal)\n",
    "            curr_cost = pathcost(curr_path, state_graph)\n",
    "            return (curr_path, curr_cost) if return_cost == True else curr_path\n",
    "        else:\n",
    "            for i in state_graph[curr]:\n",
    "                if visited[i] == False:\n",
    "                    queue.append(i)\n",
    "                    visited[i] = True\n",
    "                    prev[i] = curr"
   ]
  },
  {
   "cell_type": "code",
   "execution_count": 7,
   "metadata": {},
   "outputs": [
    {
     "name": "stdout",
     "output_type": "stream",
     "text": [
      "(['chi', 'ind', 'col', 'pit', 'phi', 'new'], 945)\n"
     ]
    }
   ],
   "source": [
    "print(depth_first(\"chi\", \"new\", map_distances, True))"
   ]
  },
  {
   "cell_type": "markdown",
   "metadata": {},
   "source": [
    "<a id='p1c'></a>\n",
    "### (1c)\n",
    "\n",
    "#### Uniform-cost search\n",
    "\n",
    "First, let's create our own `Frontier_PQ` class to represent the frontier (priority queue) for uniform-cost search.  Note that the `heapq` package is imported in the helpers at the top of this notebook; you may find that package useful.  You could also use the `Queue` package.  Your implementation of the uniform-cost search frontier should adhere to these specifications:\n",
    "* Instantiation arguments: \n",
    "  * **Frontier_PQ(start, cost)**\n",
    "  * **start** is the initial state (e.g., **start**='chi')\n",
    "  * **cost** is the initial path cost (what should it be for the initial state?)\n",
    "* Instantiation attributes/methods:\n",
    "  * **states**: maintains a dictionary of states on the frontier, along with the _minimum_ path cost to arrive at them\n",
    "  * **q**: a list of (cost, state) tuples, representing the elements on the frontier; should be treated as a priority queue (in contrast to the **states** dictionary, which is meant to keep track of the lowest-cost to each state)\n",
    "  * appropriately initialize the starting state and cost\n",
    "* Methods to implement:\n",
    "  * **add(state, cost)**: add the (cost, state) tuple to the frontier\n",
    "  * **pop()**: return the lowest-cost (cost, state) tuple, and pop it off the frontier\n",
    "  * **replace(state, cost)**: if you find a lower-cost path to a state that's already on the frontier, it should be replaced using this method.\n",
    "  \n",
    "Note that there is some redundancy between the information stored in **states** and **q**. I only suggest to code it in this way because I think it's the most straightforward way to get something working. You could reduce the storage requirements by eliminating the redundancy, but it increases the time complexity because of the function calls needed to manipulate your priority queue to check for states (since that isn't how the frontier queue is ordered)."
   ]
  },
  {
   "cell_type": "code",
   "execution_count": 8,
   "metadata": {},
   "outputs": [],
   "source": [
    "# Your code here.\n",
    "class Frontier_PQ():\n",
    "    def __init__(self, start, cost = 0):\n",
    "        self.start = start\n",
    "        self.cost = cost\n",
    "        self.states = {start:cost} # the explored nodes\n",
    "        self.q = [[cost, start]] # the can-be-explored nodes\n",
    "    \n",
    "    def add(self,state,cost):\n",
    "        self.states[state]=cost\n",
    "        heapq.heappush(self.q,[cost,state])\n",
    "    \n",
    "    def pop(self):\n",
    "        return heapq.heappop(self.q)\n",
    "    \n",
    "    def replace(self,state,cost):\n",
    "        self.states[state]=cost\n",
    "        for i,tup in enumerate(self.q):\n",
    "            if tup[1]==state:\n",
    "                self.q[i][0]=cost"
   ]
  },
  {
   "cell_type": "markdown",
   "metadata": {},
   "source": [
    "Now, actually implement a function to search using `uniform_cost` search, called as **uniform_cost(start, goal, state_graph, return_cost)**:\n",
    "* **start**: initial state\n",
    "* **goal**: goal state\n",
    "* **state_graph**: graph representing the connectivity and step costs of the state space (e.g., **map_distances** or **map_times** below)\n",
    "* **return_cost**: logical input representing whether or not to return the solution path cost\n",
    "  * If **True**, then the output should be a tuple where the first value is the list representing the solution path and the second value is the path cost\n",
    "  * If **False**, then the only output is the solution path list object"
   ]
  },
  {
   "cell_type": "code",
   "execution_count": 9,
   "metadata": {},
   "outputs": [],
   "source": [
    "# Your code here.\n",
    "def uniform_cost(start, goal, state_graph, return_cost):\n",
    "    frontier = Frontier_PQ(start)\n",
    "    visited = set()\n",
    "    prev = {start:None}\n",
    "   \n",
    "    while frontier.q:\n",
    "        cost, curr = frontier.pop()\n",
    "        if curr == goal:\n",
    "            p = path(prev, curr)\n",
    "            return (p, pathcost(p, state_graph)) if return_cost else p\n",
    "        visited.add(curr)\n",
    "       \n",
    "        for adj in state_graph[curr]:\n",
    "            if adj not in visited:\n",
    "                if adj not in frontier.states:\n",
    "                    prev[adj]=curr\n",
    "                    frontier.add(adj,cost+state_graph[curr][adj])\n",
    "                elif frontier.states[adj] > cost+state_graph[curr][adj]:\n",
    "                    prev[adj]=curr\n",
    "                    frontier.replace(adj,cost+state_graph[curr][adj])"
   ]
  },
  {
   "cell_type": "markdown",
   "metadata": {},
   "source": [
    "<a id='p1d'></a>\n",
    "### (1d)\n",
    "\n",
    "In the code cell below, use a few **print** statements to showcase the output of each of your three search algorithms defined above (in **1a**, **1b** and **1c**) to find routes for Snake to travel from Chicago to New York, with path costs defined by the distance between cities.\n",
    "\n",
    "Then, in the markdown cell below your code cell, write a few sentences:\n",
    "* Which algorithm yields the shortest path?\n",
    "* Why does this not surprise you?"
   ]
  },
  {
   "cell_type": "code",
   "execution_count": 10,
   "metadata": {},
   "outputs": [
    {
     "name": "stdout",
     "output_type": "stream",
     "text": [
      "(['chi', 'det', 'buf', 'syr', 'new'], 943)\n",
      "(['chi', 'ind', 'col', 'pit', 'phi', 'new'], 945)\n",
      "(['chi', 'cle', 'pit', 'phi', 'new'], 881)\n"
     ]
    }
   ],
   "source": [
    "# Your code here.\n",
    "print(breadth_first(\"chi\", \"new\", map_distances, True))\n",
    "print(depth_first(\"chi\", \"new\", map_distances, True))\n",
    "print(uniform_cost(\"chi\", \"new\", map_distances, True))"
   ]
  },
  {
   "cell_type": "markdown",
   "metadata": {},
   "source": [
    "The uniform cost search yields the shortest path. This does not surprise me because it takes the the path costs into account when finding the path, whereas BFS and DFS don't."
   ]
  },
  {
   "cell_type": "markdown",
   "metadata": {},
   "source": [
    "<a id='p1e'></a>\n",
    "### (1e)\n",
    "\n",
    "The Plutoxin 7 poison (which Snake has been infected with) will cause Snake's central nervous system to implode after exactly 940 minutes.\n",
    "\n",
    "Will any of the paths found in **(1d)** get Snake to New York alive?  Show your work! Snake's life hangs in the balance."
   ]
  },
  {
   "cell_type": "code",
   "execution_count": 11,
   "metadata": {},
   "outputs": [
    {
     "name": "stdout",
     "output_type": "stream",
     "text": [
      "Using BFS: 955\n",
      "Using DFS: 1015\n",
      "Using UCS: 945\n"
     ]
    }
   ],
   "source": [
    "# Your code here.\n",
    "print(\"Using BFS:\", pathcost(['chi', 'det', 'buf', 'syr', 'new'], map_times))\n",
    "print(\"Using DFS:\", pathcost(['chi', 'ind', 'col', 'pit', 'phi', 'new'], map_times))\n",
    "print(\"Using UCS:\", pathcost(['chi', 'cle', 'pit', 'phi', 'new'], map_times))"
   ]
  },
  {
   "cell_type": "markdown",
   "metadata": {},
   "source": [
    "Using the given **pathcost** function as well as the paths found in 1d, we get the above results, showing that Snake will not be able to get to New York alive using any of the above paths."
   ]
  },
  {
   "cell_type": "markdown",
   "metadata": {},
   "source": [
    "<a id='p1f'></a>\n",
    "### (1f)\n",
    "\n",
    "Since time is a factor, Snake ought to optimize his route from Chicago to New York to minimize the total time required. Because Snake is a renaissance man, he knows some pretty slick search algorithms.  But because he's infected with deadly poison, Snake just isn't up to the task of implementing them - his code is full of bugs and he keeps sneezing all over his monitor!  Let's help him out, shall we?\n",
    "\n",
    "In the code cell below, find the shortest path from Chicago to New York as measured by total time taken, and display the result using a **print** statement\n",
    "\n",
    "In the markdown cell below the code cell, write a couple of sentences:\n",
    "* Why did you choose the search algorithm and state space graph that you chose?\n",
    "* Would the solution path found by the other algorithms (the ones you didn't use in your function call) change if you tried to optimize based on time as opposed to distance (i.e., used **map_times** as opposed to **map_distances**)? Why or why not?\n",
    "* **Most importantly:**  will Snake get to New York in time to receive the Plutoxin 7 antidote? This answer should be justified by your code output."
   ]
  },
  {
   "cell_type": "code",
   "execution_count": 12,
   "metadata": {},
   "outputs": [
    {
     "name": "stdout",
     "output_type": "stream",
     "text": [
      "Using UCS: (['chi', 'cle', 'buf', 'syr', 'new'], 935)\n"
     ]
    }
   ],
   "source": [
    "# Your code here.\n",
    "print(\"Using UCS:\", uniform_cost(\"chi\", \"new\", map_times, True))"
   ]
  },
  {
   "cell_type": "markdown",
   "metadata": {},
   "source": [
    "I chose UCS because it takes into account the cost of each path using **map_times**, whereas BFS and DFS do not.\n",
    "\n",
    "The solution paths found by the other algorithms (DFS and BFS) wouldn't change if you tried to optimize based on time as opposed to distance because neither of those methods take into account the path costs (edge weights).\n",
    "\n",
    "As seen by the above output, Snake will make it to New York in time for the antidote (with 5 minutes to spare)."
   ]
  },
  {
   "cell_type": "markdown",
   "metadata": {},
   "source": [
    "\n",
    "## Problem 2 (25 points)\n",
    "\n"
   ]
  },
  {
   "attachments": {
    "map.png": {
     "image/png": "[encoded data removed]"
    }
   },
   "cell_type": "markdown",
   "metadata": {},
   "source": [
    "\n",
    "<div>\n",
    "<img src=\"attachment:map.png\" width=\"400\"/>\n",
    "</div>"
   ]
  },
  {
   "cell_type": "markdown",
   "metadata": {},
   "source": [
    "The graph above represents how long it takes the average student to walk between different parts of campus. For each of the following graph search strategies, work out the path returned by graph search. In all cases, assume ties resolve in such a way that states with earlier alphabetical order are expanded first. The start and goal state are S and G, respectively. Remember that in graph search, a state is expanded only once."
   ]
  },
  {
   "cell_type": "markdown",
   "metadata": {},
   "source": [
    "### (2a) \n",
    "\n",
    "Depth-First Search"
   ]
  },
  {
   "cell_type": "markdown",
   "metadata": {},
   "source": [
    "**Note for grader for 2a-2d:** \"previous\" is simply my way of keeping track of the path in an easy-to-follow manner, whereas the actual functions written in question 1 would use the \"path\" function among other tools.\n",
    "\n",
    "Path: S -> A -> C -> G\n",
    "\n",
    "We first expand S, adding D,B,A to the stack with \"previous\" set to S, stacks is [D,B,A].\n",
    "\n",
    "We then pop A and expand it, adding C to the stack with \"previous\" set to A, stack is [D,B,C].\n",
    "\n",
    "We then pop C and expand it, adding G to the stack with \"previous\" set to C, stack is [D,B,G].\n",
    "\n",
    "We then pop G, which is the goal, so we're done! We can follow the \"previous\" path from G to C to A to S, giving us a path of S-A-C-G."
   ]
  },
  {
   "cell_type": "markdown",
   "metadata": {},
   "source": [
    "### (2b) \n",
    "\n",
    "Breadth First Search"
   ]
  },
  {
   "cell_type": "markdown",
   "metadata": {},
   "source": [
    "Path: S -> D -> G\n",
    "\n",
    "We first expand S, adding A,B,D to the queue with \"previous\" set to S, the queue is [A,B,D].\n",
    "\n",
    "We then pop A and expand it, adding C to the queue with \"previous\" set to A, the queue is [B,D,C].\n",
    "\n",
    "We then pop B and expand it, adding nothing to the queue (D was already added), the queue is [D,C].\n",
    "\n",
    "We then pop D and expand it, adding G to the queue with \"previous\" set to D, the queue is [C,G].\n",
    "\n",
    "We then pop C and expand it, adding nothing to the queue (D and G were already added), the queue is [G].\n",
    "\n",
    "We then pop G, which is the goal, so we're done! We can follow the \"previous\" path from G to D to S, giving us a path of S-D-G."
   ]
  },
  {
   "cell_type": "markdown",
   "metadata": {},
   "source": [
    "### (2c) \n",
    "\n",
    "Uniform-Cost Search"
   ]
  },
  {
   "cell_type": "markdown",
   "metadata": {},
   "source": [
    "Path: S -> A -> C -> G\n",
    "\n",
    "We first expand S, adding A,B,D to the priority queue (adding the respective edge costs to their previous costs of 0) with \"previous\" set to S, queue is [A,B,D].\n",
    "\n",
    "We then pop A, adding C to the priority queue (adding A's cost and the A-C edge cost to C's previous cost of 0) with \"previous set to A, queue is [B,D,C].\n",
    "\n",
    "We then pop B, not replacing D in the priority queue as its previous cost was lower, queue is [D,C].\n",
    "\n",
    "We then pop D, adding G to the priority queue (adding D's cost and the D-G edge cost to G's previous cost of 0) with \"previous\" set to D, but do not add C (as its previous cost is equal to this new cost, so there's no reason to replace it), queue is [C,G].\n",
    "\n",
    "We then pop C, replacing G in the priority queue (as its previous cost going from D was 10, but S-A-C-G cost would be only 8) with \"previous\" reassigned to C, queue is [G].\n",
    "\n",
    "We then pop G, which is the goal, so we're done! We can follow the \"previous\" path from G to C to A to S, giving us a path of S-A-C-G."
   ]
  },
  {
   "cell_type": "markdown",
   "metadata": {},
   "source": [
    "### (2d)  \n",
    "A* search with the heuristic values listed at each state."
   ]
  },
  {
   "cell_type": "markdown",
   "metadata": {},
   "source": [
    "Path: S -> A -> C -> G\n",
    "\n",
    "We first expand S, adding A,D,B to the priority queue (costs of 4,6,8 respectively) with \"previous\" set to S, queue is [A,D,B].\n",
    "\n",
    "We then pop A, adding C (cost of 8) to the priority queue with \"previous\" set to A, queue is [D,B,C].\n",
    "\n",
    "We then pop D, adding G (cost of 10) to the priority queue with \"previous\" set to D, queue is [B,C,G].\n",
    "\n",
    "We then pop B, adding nothing to the priority queue (no cheaper costs for replacenment), queue is [C,G].\n",
    "\n",
    "We then pop C, replacing G with a lower cost of 8 (compared to its previous cost of 10) with \"previous\" reassigned to C, queue is now [G].\n",
    "\n",
    "We then pop G, which is the goal, so we're done! We can follow the \"previous\" path from G to C to A to S, giving us a path of S-A-C-G."
   ]
  },
  {
   "attachments": {
    "agent.png": {
     "image/png": "[encoded data removed]"
    }
   },
   "cell_type": "markdown",
   "metadata": {},
   "source": [
    "### (2e) \n",
    "Imagine a car-like agent (shown by the arrow shape below) wishing to reach the end of a long corridor like the one shown below. The agent cannot turn around and is always pointed (and driving) to the right. The agent's initial velocity is zero, but can move at the integer velocities in $[0, V]$. At each time step, the agent can either coast (not change velocity), accelerate (increase velocity by 1), or decelerate (decrease velocity by 1). Once an action is selected, the agent then moves a number of squares equal to its NEW adjusted velocity. For example, if the first action is to accelerate, the agent will end up one square to the right with a new velocity of 1. The agent's goal is to find a plan which parks it (at zero velocity) on the exit square using as few actions (time steps) as possible. Assume the agent begins in the leftmost square with velocity 0.\n",
    "\n",
    "<div>\n",
    "<img src=\"attachment:agent.png\" width=\"400\"/>\n",
    "</div>\n",
    "\n",
    "If the corridor is of length L, what is the size of the state space? Briefly justify your answer. You need not consider whether a state is actually reachable from the start state on this board."
   ]
  },
  {
   "cell_type": "markdown",
   "metadata": {},
   "source": [
    "L(V+1) because there are L tiles and V+1 velocities (as the possibilities for velocity are in an array from 0 to V)."
   ]
  },
  {
   "cell_type": "markdown",
   "metadata": {},
   "source": [
    "### (2f) \n",
    "Still considering the image from **(2e)**, what is the maximum branching factor of this problem?"
   ]
  },
  {
   "cell_type": "markdown",
   "metadata": {},
   "source": [
    "3 because each \"node\" has three possibilities (accelerate, coast, or slow down)"
   ]
  },
  {
   "cell_type": "markdown",
   "metadata": {},
   "source": [
    "### (2g)\n",
    "Again referencing **(2e)** Is the distance from the agent's location to the exit an admissible heuristic? Why or why not?"
   ]
  },
  {
   "cell_type": "markdown",
   "metadata": {},
   "source": [
    "No, it is not admissible. Take, for example, the distance to the exit to be 5 and the velocity to be 2. The cost predicted by the distance to the exit is therefore 5. However, the optimal cost of 4 time steps can be achieved as follows:\n",
    "\n",
    "1. Distance to exit is 5 and velocity is 2, choose to coast (travel 2 tiles)\n",
    "2. Distance to exit is 3 and velocity is 2, choose to coast (travel 2 tiles)\n",
    "3. Distance to exit is 1 and velocity is 2, choose to slow down to 1 (travel 1 tile)\n",
    "4. Distance to exit is 0 and velocity is 1, choose to slow down 0 (travel 0 tiles, staying at the exit)\n",
    "\n",
    "Therefore, distance over-predicted the cost to reach the goal, meaning that it is not an admissible heuristic."
   ]
  },
  {
   "cell_type": "markdown",
   "metadata": {},
   "source": [
    "### (2h)\n",
    "State and justify a non-trivial, admissible heuristic for this problem (**(2e)**) which is not the distance to the exit."
   ]
  },
  {
   "cell_type": "markdown",
   "metadata": {},
   "source": [
    "A non-trivial, admissible heuristic for this problem would be distance/maximum velocity (distance to the exit divided by the maximum possible velocity), as such a value is non-trivial and is never an over-prediction of the time/cost needed to reach the exit."
   ]
  },
  {
   "cell_type": "markdown",
   "metadata": {},
   "source": [
    "\n",
    "\n",
    "## Problem 3 (25 points)\n",
    "\n",
    "Consider this maze, where gray tiles represent walls and orange tiles represent open space where you can walk.\n",
    "\n",
    "<img src=\"http://drive.google.com/uc?export=view&id=1bCT7aePAwB1t8ZdIboOqmhzMAQ_grKBZ\" alt=\"Drawing\" style=\"width: 200px;\"/>\n",
    "\n",
    "We can represent this maze using a binary `numpy` array as follows, where 1s represent walls and 0s represent open space:"
   ]
  },
  {
   "cell_type": "code",
   "execution_count": 13,
   "metadata": {},
   "outputs": [],
   "source": [
    "maze = np.array([[1, 1, 1, 1, 1, 1, 1, 1, 1, 1, 1, 1],\n",
    "                 [1, 0, 0, 0, 0, 0, 0, 0, 0, 0, 0, 1],\n",
    "                 [1, 0, 1, 1, 1, 1, 1, 1, 0, 1, 1, 1],\n",
    "                 [1, 0, 1, 0, 0, 0, 0, 0, 0, 0, 0, 1],\n",
    "                 [1, 0, 1, 0, 1, 1, 1, 1, 1, 1, 0, 1],\n",
    "                 [1, 0, 1, 0, 1, 0, 0, 0, 0, 0, 0, 1],\n",
    "                 [1, 0, 0, 0, 1, 1, 0, 1, 1, 1, 0, 1],\n",
    "                 [1, 0, 1, 0, 0, 0, 0, 1, 0, 1, 1, 1],\n",
    "                 [1, 0, 1, 1, 0, 1, 0, 0, 0, 0, 0, 1],\n",
    "                 [1, 0, 1, 0, 0, 1, 1, 1, 1, 1, 0, 1],\n",
    "                 [1, 0, 0, 0, 1, 1, 0, 0, 0, 0, 0, 1],\n",
    "                 [1, 1, 1, 1, 1, 1, 1, 1, 1, 1, 1, 1]])"
   ]
  },
  {
   "cell_type": "markdown",
   "metadata": {},
   "source": [
    "**Very importantly**, note that the *first* row of the **maze** array corresponds to the *bottom* row of tiles in the figure.  This is a choice made carefully to reflect the fact that we are going to search for a solution path through this maze in *physical* space, so it is useful for our coordinate system to match Cartesian coordinates. This is in contrast to using the first row of the **maze** array to represent the top of the maze, which looks intuitive."
   ]
  },
  {
   "cell_type": "markdown",
   "metadata": {},
   "source": [
    "<a id='p3a'></a>\n",
    "### (3a)\n",
    "\n",
    "Write a function **maze_to_graph(maze)** that:\n",
    "* takes as input a binary maze **maze**, stored as a `numpy` array, where 0 represents an open path and 1 represents a wall\n",
    "* returns a graph dictionary in a similar style to **map_distances** and **map_times** (from Problem 1)\n",
    "  * the keys are tuples giving the states (coordinate pairs) within the maze (e.g., (1,1) represents the lower-left open space, (2,1) represents the space **to the right** of (1,1), and (0,0) represents the lower-left corner, a wall location); thus, the coordinates within the maze are like Cartesian coordinates, and the x- and y-axes are the bottom and left walls of the maze, respectively\n",
    "  * the values are themselves dictionaries, where the keys are other states within the maze and the values are the actions taken to move to that state\n",
    "  * the actions are moves from the list ['N','S','E','W']"
   ]
  },
  {
   "cell_type": "code",
   "execution_count": 14,
   "metadata": {},
   "outputs": [],
   "source": [
    "# Your code here.\n",
    "def maze_to_graph(maze):\n",
    "    def check_neighbor(i, j, maze):\n",
    "        if i < 0 or j < 0 or i >= len(maze) or j >= len(maze) or maze[i][j] == 1:\n",
    "            return False\n",
    "        else:\n",
    "            return True\n",
    "        \n",
    "    ans = {}\n",
    "    row = len(maze)\n",
    "    col = len(maze[0])\n",
    "    \n",
    "    for i in range(row):\n",
    "        for j in range(col):\n",
    "            if maze[i][j]==0:\n",
    "                ans[(j,i)]={}\n",
    "                up = check_neighbor(i+1, j, maze)\n",
    "                down = check_neighbor(i-1, j, maze)\n",
    "                right = check_neighbor(i, j+1, maze)\n",
    "                left = check_neighbor(i, j-1, maze)\n",
    "                \n",
    "                if up:\n",
    "                    ans[(j,i)][j,i+1] = 'N'\n",
    "                if down:\n",
    "                    ans[(j,i)][j,i-1] = 'S'\n",
    "                if right:\n",
    "                    ans[(j,i)][j+1,i] = 'E'\n",
    "                if left:\n",
    "                    ans[(j,i)][j-1,i] = 'W'\n",
    "    \n",
    "    return ans"
   ]
  },
  {
   "cell_type": "markdown",
   "metadata": {},
   "source": [
    "\n",
    "### (3b)\n",
    "\n",
    "Use your **maze_to_graph** function and **depth-first search** to solve the maze defined above.  A simple 'print' statement of the path your codes find and its length suffices.\n",
    "* The initial state is (1,1)\n",
    "* The goal state is (10,10)\n",
    "\n",
    "Then, use your **breadth-first search** function to solve the maze; provide the solution path and its length.\n",
    "\n",
    "If your codes are sufficiently general, the output from **maze_to_graph** should be suitable to be fed straight into your search routines."
   ]
  },
  {
   "cell_type": "code",
   "execution_count": 15,
   "metadata": {},
   "outputs": [
    {
     "name": "stdout",
     "output_type": "stream",
     "text": [
      "Using DFS, the shortest path found is: (['N', 'N', 'N', 'N', 'N', 'N', 'N', 'N', 'N', 'E', 'E', 'S', 'E', 'S', 'S', 'E', 'E', 'N', 'E', 'E', 'E', 'E', 'N', 'N'], 24)\n",
      "Using BFS, the shortest path found is: (['N', 'N', 'N', 'N', 'N', 'E', 'E', 'N', 'E', 'E', 'E', 'N', 'E', 'E', 'E', 'E', 'N', 'N'], 18)\n"
     ]
    }
   ],
   "source": [
    "# Your code here.\n",
    "maze = np.array([[1, 1, 1, 1, 1, 1, 1, 1, 1, 1, 1, 1],\n",
    "                 [1, 0, 0, 0, 0, 0, 0, 0, 0, 0, 0, 1],\n",
    "                 [1, 0, 1, 1, 1, 1, 1, 1, 0, 1, 1, 1],\n",
    "                 [1, 0, 1, 0, 0, 0, 0, 0, 0, 0, 0, 1],\n",
    "                 [1, 0, 1, 0, 1, 1, 1, 1, 1, 1, 0, 1],\n",
    "                 [1, 0, 1, 0, 1, 0, 0, 0, 0, 0, 0, 1],\n",
    "                 [1, 0, 0, 0, 1, 1, 0, 1, 1, 1, 0, 1],\n",
    "                 [1, 0, 1, 0, 0, 0, 0, 1, 0, 1, 1, 1],\n",
    "                 [1, 0, 1, 1, 0, 1, 0, 0, 0, 0, 0, 1],\n",
    "                 [1, 0, 1, 0, 0, 1, 1, 1, 1, 1, 0, 1],\n",
    "                 [1, 0, 0, 0, 1, 1, 0, 0, 0, 0, 0, 1],\n",
    "                 [1, 1, 1, 1, 1, 1, 1, 1, 1, 1, 1, 1]])\n",
    "\n",
    "graph = maze_to_graph(maze)\n",
    "\n",
    "def DFS(graph, initial, end):\n",
    "    ans_list = [] # list of all paths found\n",
    "    \n",
    "    def traverse(current, end, path, seen, graph):\n",
    "        if current == end: # if the goal destination has been reached\n",
    "            ans_list.append((path,len(path))) # append the path and its length to the list of all paths found\n",
    "        else:\n",
    "            if current not in seen: # if the current node hasn't been seen before (to prevent infinite searching loops)\n",
    "                seen[current] = True # set seen value to true\n",
    "                neighbors = graph[current] # finds neighbors from the dictionary returned by maze_to_graph\n",
    "                \n",
    "                for coord,direction in neighbors.items(): # explore paths for every neighbor\n",
    "                    traverse(coord, end, path+[direction], seen, graph)\n",
    "    \n",
    "    initial_neighbors = graph[initial]\n",
    "    \n",
    "    for coord,direction in initial_neighbors.items(): # must run traversal for all possible paths off of the initial node\n",
    "        traverse(coord,end,[direction],{initial:True},graph)\n",
    "#     for item in ans_list:\n",
    "#         print(item)\n",
    "    return min(ans_list, key = lambda t: t[1]) # returns path with shortest length\n",
    "\n",
    "def BFS(graph, initial, end):\n",
    "    q = deque() # uses deque package for popping off of left side of list (using a queue)\n",
    "    q.append((initial,[])) # enqueues initial coordinate and an empty path\n",
    "    seen = {}\n",
    "    \n",
    "    while q: # while there are items in the queue\n",
    "        coord,path = q.popleft()\n",
    "        if coord == end: # if the goal destination has been reached\n",
    "            return path,len(path) # return the path taken and its length\n",
    "        else:\n",
    "            if coord not in seen: # if the current coordinate hasn't been visited yet\n",
    "                seen[coord] = True # set seen value to true\n",
    "                neighbors = graph[coord]\n",
    "                for new_coord,direction in neighbors.items(): # must add all neighbors to the queue to explore those paths\n",
    "                    q.append(((new_coord), path + [direction]))\n",
    "\n",
    "print(\"Using DFS, the shortest path found is:\", DFS(graph, (1,1), (10,10)) )\n",
    "print(\"Using BFS, the shortest path found is:\", BFS(graph, (1,1), (10,10)) )"
   ]
  },
  {
   "cell_type": "markdown",
   "metadata": {},
   "source": [
    "<a id='p3c'></a>\n",
    "### (3c)\n",
    "\n",
    "Write a function **plot_maze(maze, path)** that takes as input a binary `numpy` array **maze** (1s represent walls, 0s represent open space) and a solution **path**, and plots the two together.\n",
    "* **maze**: a maze represented as a binary `numpy` array, as above\n",
    "* **path**: a solution path found using your search algorithms above. **path** should be consistent with the output from the **path** function below in the helpers (a list of states).  You may find it useful to provide a default of `None` for **path**, so that you can use your function to just plot a maze that you haven't solved yet.\n",
    "\n",
    "Then, use your **plot_maze** function to plot the maze defined above, along with the solution path found by **depth-first search**.\n",
    "\n",
    "\n",
    "<br>\n",
    "\n",
    "**Potentially useful:** \n",
    "\n",
    "[1] In the helpers, you will notice that there are two packages imported:\n",
    "  * `import matplotlib.pyplot as plt`\n",
    "  * `from matplotlib import colors`\n",
    "\n",
    "`pyplot` and `colors` may be potentially useful to you for generating a pretty plot and generating a colormap for your walls/open spaces in the maze, respectively.  You do not need to use them, but I wanted to provide this nudge for folks who maybe have not done much/any plotting in Python before.\n",
    "\n",
    "[2] Also, [Color Oracle](http://colororacle.org/) is a useful utility for making colorblind-friendly plots. If you ever plan to show another human being a figure that you have generated, this is nice practice. Check it out!"
   ]
  },
  {
   "cell_type": "markdown",
   "metadata": {},
   "source": [
    "**NOTE**: in the plotted maze below, the path taken to the goal destination is represented by 9's, with the walls being 1's and the unused path space being 0's (as initially given)"
   ]
  },
  {
   "cell_type": "code",
   "execution_count": 16,
   "metadata": {},
   "outputs": [
    {
     "name": "stdout",
     "output_type": "stream",
     "text": [
      "[1 1 1 1 1 1 1 1 1 1 1 1]\n",
      "[1 9 9 9 1 1 0 0 0 0 9 1]\n",
      "[1 9 1 9 9 1 1 1 1 1 9 1]\n",
      "[1 9 1 1 9 1 9 9 9 9 9 1]\n",
      "[1 9 1 0 9 9 9 1 0 1 1 1]\n",
      "[1 9 0 0 1 1 0 1 1 1 0 1]\n",
      "[1 9 1 0 1 0 0 0 0 0 0 1]\n",
      "[1 9 1 0 1 1 1 1 1 1 0 1]\n",
      "[1 9 1 0 0 0 0 0 0 0 0 1]\n",
      "[1 9 1 1 1 1 1 1 0 1 1 1]\n",
      "[1 9 0 0 0 0 0 0 0 0 0 1]\n",
      "[1 1 1 1 1 1 1 1 1 1 1 1]\n"
     ]
    }
   ],
   "source": [
    "# Your code here.\n",
    "path = DFS(graph, (1,1), (10,10))[0]\n",
    "\n",
    "def plot_maze(maze, path):\n",
    "    initial = (1,1)\n",
    "    end = (10,10)\n",
    "    i=0\n",
    "    locs=[initial]\n",
    "    while i < len(path): # goes through and finds the coordinates along the path by using the directions of movement\n",
    "        if path[i] == 'N':\n",
    "            initial = (initial[0]+1, initial[1])\n",
    "            locs.append(initial)\n",
    "        elif path[i] == 'S':\n",
    "            initial = (initial[0]-1, initial[1])\n",
    "            locs.append(initial)\n",
    "        elif path[i] == 'E':\n",
    "            initial = (initial[0], initial[1]+1)\n",
    "            locs.append(initial)\n",
    "        elif path[i] == 'W':\n",
    "            initial = (initial[0], initial[1]-1)\n",
    "            locs.append(initial)\n",
    "        i+=1\n",
    "    \n",
    "    for loc in locs: # marks each coordinate along the path as a 9\n",
    "        maze[loc[0]][loc[1]] = 9\n",
    "        \n",
    "    for i in reversed(maze):\n",
    "        print(i)\n",
    "\n",
    "plot_maze(maze, path)"
   ]
  },
  {
   "cell_type": "markdown",
   "metadata": {},
   "source": [
    "## Problem 4 (25 points)\n",
    "\n",
    "Well, it turns out Snake lived through his perilous trip to New York City.  \n",
    "\n",
    "During Snake's time on the east coast, he came to realize that the soothing Atlantic Ocean air does wonders for his nerves. Living in the penal colony of Chicago is just so stressful! So he has decided to pack up and move to Providence, Rhode Island.\n",
    "\n",
    "Because Snake has traveled across the country already, he has some prior knowledge regarding how far various cities along the way are from his final destination of Providence.  In particular, Snake maps out the **straight-line distance** from major cities to Providence. This information is displayed in the `sld_providence` dictionary in the helper functions at the top of this notebook.\n",
    "\n",
    "Also note that because it doesn't make much sense to add estimated travel times and the straight-line distance, we will only be using the `map_distances` state space graph for this problem.\n",
    "\n",
    "**map_distances**          |  **sld_providence**\n",
    ":-------------------------:|:-------------------------:\n",
    "<img src=\"http://drive.google.com/uc?export=view&id=1j6Kam3F7ET-aIzT-6KMxaW7D7r8WAOME\" alt=\"Drawing\" style=\"width: 500px;\"/>  | <img src=\"http://drive.google.com/uc?export=view&id=1a8FNEG7apKkRX7VvpdMgmeYbqeNuOdwz\" alt=\"Drawing\" style=\"width: 500px;\"/>\n",
    "\n",
    "\n",
    "<a id='p1a'></a>\n",
    "### (4a)\n",
    "\n",
    "Modify your code for uniform-cost search from Problem 1 so that it provides optionally as output the number of nodes **expanded** in completing the search. \n",
    "\n",
    "Include a new optional logical (True/False) argument **return_nexp**, so your function calls to the new uniform cost search will look like: `uniform_cost(start, goal, state_graph, return_cost, return_nexp)`.\n",
    "* If `return_nexp` is True, then the last output in the output tuple should be the number of nodes expanded.\n",
    "* If `return_nexp` is False, then the code should behave exactly as it did in Homework 2.\n",
    "\n",
    "Then, verify that your revised codes are working by checking Snake's optimal route from Chicago to New York. Include the number of nodes expanded and the path cost (using `map_distances`)."
   ]
  },
  {
   "cell_type": "code",
   "execution_count": 17,
   "metadata": {},
   "outputs": [],
   "source": [
    "# Your code here.\n",
    "def new_uniform_cost(start, goal, state_graph, return_cost, return_nexp):\n",
    "    frontier = Frontier_PQ(start)\n",
    "    visited = set()\n",
    "    prev = {start:None}\n",
    "    count = 0\n",
    "   \n",
    "    while frontier.q:\n",
    "        cost, curr = frontier.pop()\n",
    "        count += 1\n",
    "        if curr == goal:\n",
    "            p = path(prev, curr)\n",
    "            if return_nexp == False:\n",
    "                return (p, pathcost(p, state_graph)) if return_cost else p\n",
    "            else:\n",
    "                return (p, pathcost(p, state_graph),count) if return_cost else (p, count)\n",
    "        visited.add(curr)\n",
    "       \n",
    "        for adj in state_graph[curr]:\n",
    "            if adj not in visited:\n",
    "                if adj not in frontier.states:\n",
    "                    prev[adj]=curr\n",
    "                    frontier.add(adj, cost+state_graph[curr][adj])\n",
    "                elif frontier.states[adj] > cost+state_graph[curr][adj]:\n",
    "                    prev[adj]=curr\n",
    "                    frontier.replace(adj, cost+state_graph[curr][adj])"
   ]
  },
  {
   "cell_type": "code",
   "execution_count": 18,
   "metadata": {},
   "outputs": [
    {
     "name": "stdout",
     "output_type": "stream",
     "text": [
      "(['chi', 'cle', 'pit', 'phi', 'new'], 881, 11)\n"
     ]
    }
   ],
   "source": [
    "map_distances = dict(\n",
    "    chi=dict(det=283, cle=345, ind=182),\n",
    "    cle=dict(chi=345, det=169, col=144, pit=134, buf=189),\n",
    "    ind=dict(chi=182, col=176),\n",
    "    col=dict(ind=176, cle=144, pit=185),\n",
    "    det=dict(chi=283, cle=169, buf=256),\n",
    "    buf=dict(det=256, cle=189, pit=215, syr=150),\n",
    "    pit=dict(col=185, cle=134, buf=215, phi=305, bal=247),\n",
    "    syr=dict(buf=150, phi=253, new=254, bos=312),\n",
    "    bal=dict(phi=101, pit=247),\n",
    "    phi=dict(pit=305, bal=101, syr=253, new=97),\n",
    "    new=dict(syr=254, phi=97, bos=215, pro=181),\n",
    "    pro=dict(bos=50, new=181),\n",
    "    bos=dict(pro=50, new=215, syr=312, por=107),\n",
    "    por=dict(bos=107))\n",
    "\n",
    "def path(previous, s): \n",
    "    '''\n",
    "    `previous` is a dictionary chaining together the predecessor state that led to each state\n",
    "    `s` will be None for the initial state\n",
    "    otherwise, start from the last state `s` and recursively trace `previous` back to the initial state,\n",
    "    constructing a list of states visited as we go\n",
    "    '''\n",
    "    if s is None:\n",
    "        return []\n",
    "    else:\n",
    "        return path(previous, previous[s])+[s]\n",
    "\n",
    "def pathcost(path, step_costs):\n",
    "    '''\n",
    "    add up the step costs along a path, which is assumed to be a list output from the `path` function above\n",
    "    '''\n",
    "    cost = 0\n",
    "    for s in range(len(path)-1):\n",
    "        cost += step_costs[path[s]][path[s+1]]\n",
    "    return cost\n",
    "\n",
    "print(new_uniform_cost(\"chi\", \"new\", map_distances, True, True))"
   ]
  },
  {
   "cell_type": "markdown",
   "metadata": {},
   "source": [
    "### (4b)\n",
    "\n",
    "#### Heuristic function\n",
    "\n",
    "Define a function to take as an argument the `state` that Snake is in (city on our graphs), and return as output the value of the straight-line distance heuristic, between Snake's `state` and Providence.  Note that your function should be quite short, and amounts to looking up the proper value from the `sld_providence` dictionary defined in the helper functions above.  Call this function `heuristic_sld_providence`.\n"
   ]
  },
  {
   "cell_type": "code",
   "execution_count": 19,
   "metadata": {},
   "outputs": [],
   "source": [
    "# Your code here.\n",
    "def heuristic_sld_providence(state):\n",
    "    return sld_providence[state]"
   ]
  },
  {
   "cell_type": "code",
   "execution_count": 20,
   "metadata": {},
   "outputs": [
    {
     "name": "stdout",
     "output_type": "stream",
     "text": [
      "596\n"
     ]
    }
   ],
   "source": [
    "print(heuristic_sld_providence(\"det\"))"
   ]
  },
  {
   "cell_type": "markdown",
   "metadata": {},
   "source": [
    "### (4c)\n",
    "\n",
    "#### Full-blown A\\* search\n",
    "\n",
    "We are finally ready to help Snake use his knowledge of straight-line distances from various cities to Providence to inform his path-finding from Chicago to Providence!\n",
    "\n",
    "Modify your uniform-cost search codes from **(4a)** even further so that they now perform **A\\* search**, using as the heuristic function the straight-line distance to Providence.\n",
    "\n",
    "Provide `heuristic` as an additional argument, which should just be the function name to call within the A\\* code. So your call to the A\\* routine should look like:  `astar_search(start, goal, state_graph, heuristic, return_cost, return_nexp)`.  (This kind of modular programming will make it much easier to swap in alternative heuristic functions later, and also helps to facilitate debugging if something goes wrong.)"
   ]
  },
  {
   "cell_type": "code",
   "execution_count": 21,
   "metadata": {},
   "outputs": [],
   "source": [
    "# Your code here.\n",
    "def astar_search(start, goal, state_graph, heuristic, return_cost, return_nexp):\n",
    "    frontier = Frontier_PQ(start)\n",
    "    visited = set()\n",
    "    prev = {start:None}\n",
    "   \n",
    "    while frontier.q:\n",
    "        cost, curr = frontier.pop()\n",
    "        visited.add(curr)\n",
    "        if curr == goal:\n",
    "            p = path(prev, curr)\n",
    "            if return_nexp == False:\n",
    "                return (p, pathcost(p, state_graph)) if return_cost else p\n",
    "            else:\n",
    "                return (p, pathcost(p, state_graph), len(visited)) if return_cost else (p,len(visited))\n",
    "       \n",
    "        for adj in state_graph[curr]:\n",
    "            if adj not in visited:\n",
    "                new_cost = cost + state_graph[curr][adj] + heuristic(adj) - heuristic(curr)\n",
    "                if adj not in frontier.states:\n",
    "                    prev[adj] = curr\n",
    "                    frontier.add(adj, new_cost)\n",
    "                elif frontier.states[adj] > new_cost:\n",
    "                    prev[adj] = curr\n",
    "                    frontier.replace(adj, new_cost)"
   ]
  },
  {
   "cell_type": "markdown",
   "metadata": {},
   "source": [
    "### (4d)\n",
    "\n",
    "Snake has already made it to Buffalo on his own, but he is growing weary.  Use your A\\* search code from **(4c)** to help Snake find the optimal path **by distance traveled** the rest of the way to Providence.  Print to the screen the following:\n",
    "1. the optimal path\n",
    "2. the optimal path cost (miles traveled)\n",
    "3. the number of states expanded during the A\\* search\n",
    "\n",
    "Additionally, show below how many states must be expanded to find the optimal path from Buffalo to Providence using the regular old uniform-cost search algorithm from **(4a)**.  Comment on the difference in states that must be explored by each algorithm.\n",
    "\n",
    "**Sanity check:** No matter what your `start` and `goal` states are, how should the output from `astar_search` and `uniform_cost` search compare?"
   ]
  },
  {
   "cell_type": "code",
   "execution_count": 22,
   "metadata": {},
   "outputs": [
    {
     "name": "stdout",
     "output_type": "stream",
     "text": [
      "optimal path using A*: ['buf', 'syr', 'bos', 'pro']\n",
      "optimal path cost using A*: 512\n",
      "number of states expanded during search using A*: 4\n",
      "###############\n",
      "optimal path using UCS: ['buf', 'syr', 'bos', 'pro']\n",
      "optimal path cost using UCS: 512\n",
      "number of states expanded during search using UCS: 12\n"
     ]
    }
   ],
   "source": [
    "# Your code here.\n",
    "ret = astar_search(\"buf\", \"pro\", map_distances, heuristic_sld_providence, True, True)\n",
    "print(\"optimal path using A*:\", ret[0])\n",
    "print(\"optimal path cost using A*:\", ret[1])\n",
    "print(\"number of states expanded during search using A*:\", ret[2])\n",
    "\n",
    "print(\"###############\")\n",
    "\n",
    "ret2 = new_uniform_cost(\"buf\", \"pro\", map_distances, True, True)\n",
    "print(\"optimal path using UCS:\", ret2[0])\n",
    "print(\"optimal path cost using UCS:\", ret2[1])\n",
    "print(\"number of states expanded during search using UCS:\", ret2[2])"
   ]
  },
  {
   "cell_type": "markdown",
   "metadata": {},
   "source": [
    "Less states are explored using the A* search because it prevents looking for paths to nodes that would bring the \"searcher\" further away from its destination. So it makes sense that A* has less states explored than UCS."
   ]
  },
  {
   "cell_type": "markdown",
   "metadata": {},
   "source": [
    "### (4e)\n",
    "\n",
    "How many states are expanded by each of A\\* search and uniform cost search, to find the optimal path **from Philadelphia to Providence**?"
   ]
  },
  {
   "cell_type": "code",
   "execution_count": 23,
   "metadata": {},
   "outputs": [
    {
     "name": "stdout",
     "output_type": "stream",
     "text": [
      "Number of states expanded during search using A*: 3\n",
      "###############\n",
      "Number of states expanded during search using UCS: 5\n"
     ]
    }
   ],
   "source": [
    "# Your code here.\n",
    "ret = astar_search(\"phi\", \"pro\", map_distances, heuristic_sld_providence, True, True)\n",
    "print(\"Number of states expanded during search using A*:\", ret[2])\n",
    "\n",
    "print(\"###############\")\n",
    "\n",
    "ret2 = new_uniform_cost(\"phi\", \"pro\", map_distances, True, True)\n",
    "print(\"Number of states expanded during search using UCS:\", ret2[2])"
   ]
  },
  {
   "cell_type": "markdown",
   "metadata": {},
   "source": [
    "Number of states expanded during search using A*: 4\n",
    "\n",
    "Number of states expanded during search using UCS: 5"
   ]
  }
 ],
 "metadata": {
  "kernelspec": {
   "display_name": "Python 3",
   "language": "python",
   "name": "python3"
  },
  "language_info": {
   "codemirror_mode": {
    "name": "ipython",
    "version": 3
   },
   "file_extension": ".py",
   "mimetype": "text/x-python",
   "name": "python",
   "nbconvert_exporter": "python",
   "pygments_lexer": "ipython3",
   "version": "3.7.4"
  }
 },
 "nbformat": 4,
 "nbformat_minor": 2
}
