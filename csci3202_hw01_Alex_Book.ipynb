{
 "cells": [
  {
   "cell_type": "markdown",
   "metadata": {},
   "source": [
    "## <a id='top'></a>\n",
    "\n",
    "# CSCI 3202, Spring 2020\n",
    "# Assignment 1\n",
    "# Due: Friday 31 January 2020 by 12:00 PM\n",
    "\n",
    "<br> \n",
    "\n",
    "### Your name: Alex Book\n",
    "\n",
    "<br> "
   ]
  },
  {
   "cell_type": "markdown",
   "metadata": {},
   "source": [
    "---\n",
    "\n",
    "Some useful helper functions and packages are loaded at [the bottom of this notebook](#helpers). Go execute those cells before proceeding."
   ]
  },
  {
   "cell_type": "markdown",
   "metadata": {},
   "source": [
    "---\n",
    "\n",
    "## Problem 1\n",
    "\n",
    "### Warm-up: practice with Markdown, Jupyter and Python troubleshooting\n",
    "\n",
    "Python is a great language because of its flexibility and efficiency. Jupyter notebooks are a great tool because they allow the seamless integration of codes and nicely formatted text and equations.\n",
    "\n",
    "### (1a)\n",
    "\n",
    "You can use the toolbar at the top of the screen to create new cells. To create a new cell below this one, click on this cell so that a blue vertical bar appears to the left. Then, in the toolbar at the top of the screen, click `Insert` and `Insert Cell Below`. (You can also use the hotkey `b` while this cell is selected, to create a new cell below.)\n",
    "\n",
    "The cell will default as a code cell, in which you can write and execute Python 3 code. (NB: Jupyter also supports (e.g.) Julia and R code; at the top-right of the screen, you'll see some blue and yellow snakes indicating that this notebook is Python 3. Oh, and the words \"Python 3\" also give it away.) The cell you are currently reading is a Markdown cell, in which you can write pretty text and equations.\n",
    "\n",
    "In your new code cell below, write a function `bigger` with the following specifications.\n",
    "* The arguments to `bigger` are two real numbers.\n",
    "* `bigger` prints to screen the larger of the two numbers. If the two numbers are equal, then print that number.\n",
    "* As output, return the difference between the larger number and the smaller number."
   ]
  },
  {
   "cell_type": "markdown",
   "metadata": {},
   "source": [
    "#### Test cases:\n",
    "You can execute the cell below to run a simple test case for your `bigger` function. This can give you a sense of how you can test your codes before proceeding through assignment problems that build on previous parts."
   ]
  },
  {
   "cell_type": "code",
   "execution_count": 33,
   "metadata": {},
   "outputs": [
    {
     "name": "stdout",
     "output_type": "stream",
     "text": [
      "10\n",
      "10\n",
      "Passed test case\n"
     ]
    }
   ],
   "source": [
    "def bigger(n1,n2):\n",
    "    print(max(n1,n2))\n",
    "    return max(n1,n2)-min(n1,n2)\n",
    "\n",
    "print('Passed test case') if (bigger(10,-10)==20) & (bigger(10,10)==0) else print('Failed test case')"
   ]
  },
  {
   "cell_type": "markdown",
   "metadata": {},
   "source": [
    "#### Test cases, rebooted:\n",
    "These test cases could have also been executed using a couple `assert` statements as follows.  If you are unfamiliar with these commands in Python, you may find it useful to play around with the codes and see what happens when you intentionally fail a test case."
   ]
  },
  {
   "cell_type": "code",
   "execution_count": 34,
   "metadata": {},
   "outputs": [
    {
     "name": "stdout",
     "output_type": "stream",
     "text": [
      "10\n",
      "10\n"
     ]
    }
   ],
   "source": [
    "assert bigger(10,-10)==20, 'Failed test case'\n",
    "assert bigger(10,10)==0, 'Failed test case'"
   ]
  },
  {
   "cell_type": "markdown",
   "metadata": {},
   "source": [
    "#### Test cases, one more time:\n",
    "Those test cases could have also been implemented using Python's `unittest` package. Below is a simple example.  Again, if you are unfamiliar with these routines, it will be useful to play around with modifying the code to see what happens when you \"break\" it in a known way."
   ]
  },
  {
   "cell_type": "code",
   "execution_count": 35,
   "metadata": {},
   "outputs": [
    {
     "name": "stderr",
     "output_type": "stream",
     "text": [
      "."
     ]
    },
    {
     "name": "stdout",
     "output_type": "stream",
     "text": [
      "10\n",
      "10\n"
     ]
    },
    {
     "name": "stderr",
     "output_type": "stream",
     "text": [
      "\n",
      "----------------------------------------------------------------------\n",
      "Ran 1 test in 0.001s\n",
      "\n",
      "OK\n"
     ]
    },
    {
     "data": {
      "text/plain": [
       "<unittest.runner.TextTestResult run=1 errors=0 failures=0>"
      ]
     },
     "execution_count": 35,
     "metadata": {},
     "output_type": "execute_result"
    }
   ],
   "source": [
    "\n",
    "# set up the tests to run, as a sub-class of the unittest 'TestCase' class\n",
    "class Tests_Problem1(unittest.TestCase):\n",
    "    def test_bigger(self):\n",
    "        self.assertEqual(bigger(10,-10), 20)\n",
    "        self.assertEqual(bigger(10,10), 0)\n",
    "\n",
    "# instantiation of your tests\n",
    "tests = Tests_Problem1()\n",
    "\n",
    "# load the tests\n",
    "tests_to_run = unittest.TestLoader().loadTestsFromModule(tests)\n",
    "\n",
    "# run the tests\n",
    "unittest.TextTestRunner().run(tests_to_run)"
   ]
  },
  {
   "cell_type": "markdown",
   "metadata": {},
   "source": [
    "### Conclusion: test cases\n",
    "\n",
    "Now we have seen three different ways to implement test cases. They varied from the most informal (the `print` statement) to the most formal (the `unittest` package). Implementing your own test cases as you develop codes is a good idea, and the `print` or `assert` statements are a nice and simple way to do this.\n",
    "\n",
    "I will generally provide `unittest` test cases at the end of each problem or assignment, so you have a sense of whether or not your code is working. The test cases for the remaining problems on this assignment will be defined at the bottom of the notebook, but code to run them will be provided within each problem (so you do not need to keep scrolling up and down the darn thing). The `unittest` framework is nice because it is modular and can be broken up into test cases for individual sections of codes. Of course, we could implement these test cases in `CodeRunner`, but learning how to implement `unittest`s in Jupyter is a useful skill.\n",
    "\n",
    "Note that for grading, we will often run your code through hidden test cases as well."
   ]
  },
  {
   "cell_type": "markdown",
   "metadata": {},
   "source": [
    "### (1b)\n",
    "\n",
    "Now let's play around with using the Markdown cells.  Create another new cell below this one, so we can include some text describing our nice `bigger` function.\n",
    "\n",
    "Now we will need to change the newly-created cell from a code cell to a Markdown cell. You can do this in one of two ways:\n",
    "1. select the cell; click `Cell` in the toolbar, then `Cell Type`, and finally `Markdown`\n",
    "2. select the cell; push `m` (Note that this only works if you are not in \"edit\" mode, which is indicated by the color of the vertical bar on the left side of the cell. If you are in \"edit\" mode, then this bar will be green. To escape from \"edit\" mode, you can (appropriately) hit the `esc` key. The green bar should change to blue to reflect this.)\n",
    "\n",
    "Create the new cell, convert it to a Markdown cell, and then enter some text to describe your `bigger` function. Initially, the cell looks like a raw text editor. If you execute the cell by using `Shift`+`Enter`, then it will become nicely formatted.\n",
    "\n",
    "**Useful tip:**  You can double-click on these existing Markdown cells (e.g., all of the instructions) in order to see some examples of how to format outlines, (sub)titles, **boldface**, *italics*, and so forth."
   ]
  },
  {
   "cell_type": "markdown",
   "metadata": {},
   "source": [
    "Bigger prints the greater of two given numbers (or if they are equal, that number), then returns the difference of the two numbers."
   ]
  },
  {
   "cell_type": "markdown",
   "metadata": {},
   "source": [
    "### (1c)\n",
    "\n",
    "Another nice feature of Jupyter notebooks is the LaTeX support, which enables nice equations and a whole suite of symbols and formatting options. That's great news for math/stats-heavy fields such as Artifical Intelligence!\n",
    "\n",
    "Here is an example of an equation: $x^2 + \\beta^2 = \\frac{1}{2}$\n",
    "\n",
    "In the cell below, provide your favorite mathematical equation (or system of equations!) and a brief explanation of why it's your favorite. Of course, you should format it nicely in LaTeX - it is your favorite equation after all."
   ]
  },
  {
   "cell_type": "markdown",
   "metadata": {},
   "source": [
    "Favorite equation: $0=e^{i\\pi}+1$. Why? Well because it's beautiful, of course! And Euler was one cool cat."
   ]
  },
  {
   "cell_type": "markdown",
   "metadata": {},
   "source": [
    "<br><br>\n",
    "\n",
    "---\n",
    "\n",
    "## Problem 2\n",
    "\n",
    "### Classes and stacks in Python: *These aren't the stacks you're looking for...*\n",
    "\n",
    "<img src=\"https://lumiere-a.akamaihd.net/v1/images/databank_jedimindtrick_01_169_a491266d.jpeg?region=0%2C0%2C1560%2C878&width=768\" alt=\"Drawing\" style=\"width: 400px;\"/>\n",
    "\n",
    "\n",
    "### (2a) \n",
    "\n",
    "Implement a class `Jedi`, with the following specifications.\n",
    "* A new instantiation of `Jedi` takes in a single argument for the `name` of the Jedi.\n",
    "* New Jedis have an attribute `skills`, which will be a list of the Jedis learned skills.\n",
    "* New Jedis have a Boolean attribute `isGhost`\n",
    "* New Jedis have a character string attribute `name`, which is assigned the value passed into the instantiation.\n",
    "* New Jedis are not ghosts and have no skills.\n",
    "\n",
    "Jedi have the following methods.\n",
    "* `learn(char string)`: push a new skill to the end of the Jedi's list of skills\n",
    "* `forget()`: sometimes Jedis forget things too! Pop off the last skill the Jedi learned. If the Jedi has no skills, return \"Jedi has no skills!\"\n",
    "* `checkSkills()`: return an integer representing the number of unique skills the Jedi has\n",
    "* `duel(other_jedi)`: the given Jedi duels another Jedi (`other_jedi`), who is input to the `duel` method. The winner of the duel is the Jedi who possesses more (unique) skills. The loser of the duel turns into a ghost. This method should return the name of the winner of the duel. If the duel is a tie, return \"Tie\". Additionally, your `duel` routine should:\n",
    "  * Print \"[name] wins the duel.\", where `[name]` is replaced by the name of the winning Jedi.\n",
    "  * If there is a tie, print \"The duel results in a tie.\""
   ]
  },
  {
   "cell_type": "code",
   "execution_count": 36,
   "metadata": {},
   "outputs": [],
   "source": [
    "class Jedi():\n",
    "    def __init__(self,Name):\n",
    "        self.skills=[]\n",
    "        self.isGhost=False\n",
    "        self.name = Name\n",
    "    def learn(self,skill):\n",
    "        self.skills.append(skill)\n",
    "    def forget(self):\n",
    "        if len(self.skills)==0:\n",
    "            return(\"Jedi has no skills!\")\n",
    "        else:\n",
    "            return self.skills.pop()\n",
    "    def checkSkills(self):\n",
    "        return len(set(self.skills))\n",
    "    def duel(self,other_jedi):\n",
    "        if self.checkSkills() > other_jedi.checkSkills():\n",
    "            print(self.name,\"wins the duel.\")\n",
    "            other_jedi.isGhost=True\n",
    "            return self.name\n",
    "        elif self.checkSkills() < other_jedi.checkSkills():\n",
    "            print(other_jedi.name,\"wins the duel.\")\n",
    "            self.isGhost=True\n",
    "            return other_jedi.name\n",
    "        else:\n",
    "            print(\"The duel results in a tie.\")\n",
    "            return 'Tie'"
   ]
  },
  {
   "cell_type": "markdown",
   "metadata": {},
   "source": [
    "\n",
    "### (2b)\n",
    "\n",
    "Create two Jedi:\n",
    "* One named \"Rhonda\" who has learned (in this order) the skills: (1) lightsabers, (2) high kicks, (3) spreadsheets and (4) mind tricks\n",
    "* One named \"Chris\" who has learned (in this order) the skills: (1) lightsabers, (2) scipy, (3) reaching high shelves and (4) lightsabers (yes, Chris had to retake the lightsabers training course - he's rather clumsy)"
   ]
  },
  {
   "cell_type": "code",
   "execution_count": 37,
   "metadata": {},
   "outputs": [],
   "source": [
    "Rhonda=Jedi(\"Rhonda\")\n",
    "Rhonda.learn(\"lightsabers\")\n",
    "Rhonda.learn(\"high kicks\")\n",
    "Rhonda.learn(\"spreadsheets\")\n",
    "Rhonda.learn(\"mind tricks\")\n",
    "\n",
    "Chris=Jedi(\"Chris\")\n",
    "Chris.learn(\"lightsabers\")\n",
    "Chris.learn(\"scipy\")\n",
    "Chris.learn(\"reaching high shelves\")\n",
    "Chris.learn(\"lightsabers\")"
   ]
  },
  {
   "cell_type": "markdown",
   "metadata": {},
   "source": [
    "### (2c)\n",
    "\n",
    "Have Rhonda and Chris duel."
   ]
  },
  {
   "cell_type": "code",
   "execution_count": 38,
   "metadata": {},
   "outputs": [
    {
     "name": "stdout",
     "output_type": "stream",
     "text": [
      "Rhonda wins the duel.\n"
     ]
    },
    {
     "data": {
      "text/plain": [
       "'Rhonda'"
      ]
     },
     "execution_count": 38,
     "metadata": {},
     "output_type": "execute_result"
    }
   ],
   "source": [
    "Rhonda.duel(Chris)"
   ]
  },
  {
   "cell_type": "markdown",
   "metadata": {},
   "source": [
    "### (2d)\n",
    "\n",
    "Enter below as Markdown text (**not** as a code cell) a sentence declaring how many skills Chris should have. Note that you will need to **add a cell** between this one and the following code cell. Then, in the provided code cell, check that he in fact has this number of skill."
   ]
  },
  {
   "cell_type": "markdown",
   "metadata": {},
   "source": [
    "Chris should have 3 unique skills."
   ]
  },
  {
   "cell_type": "code",
   "execution_count": 39,
   "metadata": {},
   "outputs": [
    {
     "name": "stdout",
     "output_type": "stream",
     "text": [
      "Unique skills: 3\n"
     ]
    }
   ],
   "source": [
    "print(\"Unique skills:\",Chris.checkSkills())"
   ]
  },
  {
   "cell_type": "markdown",
   "metadata": {},
   "source": [
    "You just implemented a **stack** for Jedi skills. Good work, padawan!"
   ]
  },
  {
   "cell_type": "markdown",
   "metadata": {},
   "source": [
    "### Test cases\n",
    "\n",
    "Note that these test cases are independent of the tasks assigned above. The actual `Tests_Problem2()` unittests are defined at the end of the notebook."
   ]
  },
  {
   "cell_type": "code",
   "execution_count": 40,
   "metadata": {},
   "outputs": [
    {
     "name": "stderr",
     "output_type": "stream",
     "text": [
      "..."
     ]
    },
    {
     "name": "stdout",
     "output_type": "stream",
     "text": [
      "The duel results in a tie.\n",
      "Rhonda wins the duel.\n"
     ]
    },
    {
     "name": "stderr",
     "output_type": "stream",
     "text": [
      "\n",
      "----------------------------------------------------------------------\n",
      "Ran 3 tests in 0.004s\n",
      "\n",
      "OK\n"
     ]
    },
    {
     "data": {
      "text/plain": [
       "<unittest.runner.TextTestResult run=3 errors=0 failures=0>"
      ]
     },
     "execution_count": 40,
     "metadata": {},
     "output_type": "execute_result"
    }
   ],
   "source": [
    "# instantiate the tests\n",
    "tests = Tests_Problem2()\n",
    "# load the tests\n",
    "tests_to_run = unittest.TestLoader().loadTestsFromModule(tests)\n",
    "# run the tests\n",
    "unittest.TextTestRunner().run(tests_to_run)"
   ]
  },
  {
   "cell_type": "markdown",
   "metadata": {},
   "source": [
    "<br><br>\n",
    "\n",
    "---"
   ]
  },
  {
   "cell_type": "markdown",
   "metadata": {},
   "source": [
    "## Problem 3\n",
    "\n",
    "### Trees and nodes\n",
    "\n",
    "### (3a)\n",
    "\n",
    "Implement a `Node` class with the following attributes and methods.\n",
    "\n",
    "`Node(key, l, r, p)`\n",
    "* `key`: an integer key to uniquely identify each node in a graph (input during instantiation)\n",
    "* `left_child`: an integer key identifying the left child of the given node  (input `l` during instantiation)\n",
    "* `right_child`: an integer key identifying the right child of the given node (input `r` during instantiation)\n",
    "* `parent`: an integer key identifying the parent of the given node (input `p` during instantiation)\n",
    "* `getChildren()`: returns a list of two elements, the left and right children the given node (in that order)\n",
    "\n",
    "Note that you should appropriately specify default arguments to cover the cases where the node does not have a left/right child or a parent.\n",
    "\n",
    "Also note that your code for `getChildren()` should return a list of two `Node` objects as the children, *not* their keys."
   ]
  },
  {
   "cell_type": "code",
   "execution_count": 41,
   "metadata": {},
   "outputs": [],
   "source": [
    "class Node():\n",
    "    def __init__(self,key,l=None,r=None,p=None):\n",
    "        self.key=key\n",
    "        self.left_child=l\n",
    "        self.right_child=r\n",
    "        self.parent=p\n",
    "    def getChildren(self):\n",
    "        return [self.left_child,self.right_child]"
   ]
  },
  {
   "cell_type": "markdown",
   "metadata": {},
   "source": [
    "### (3b)\n",
    "\n",
    "This problem will build on your `Node` class from (3a), so make sure that code is working properly.\n",
    "\n",
    "Below is some code to construct binary trees. It's pretty nice, but is missing a critical method: one that allows you to `add` a new node. Implement an `add` method for the `Node` class; put your code in the space indicated in the code block below. You new `add` method should adhere to the following specifications.\n",
    "\n",
    "`add(key, parentKey)`\n",
    "* `key` is the key value for the new node\n",
    "* `parentKey` is the key value of the parent\n",
    "* if `parentKey` is not found in the tree, then print the message: \"Parent not found.\"\n",
    "* if the `parentKey` is found in the tree, then:\n",
    "  * add the new node as the left child if the parent has no children\n",
    "  * add the new node as the right child if the parent has a left child only\n",
    "  * don’t add the node if the parent already has two children. Instead, print the message: \"Parent has two children, node not added.\"\n",
    "* if a new node is successfully added to the tree, then return `True`; otherwise, return `False`"
   ]
  },
  {
   "cell_type": "code",
   "execution_count": 42,
   "metadata": {},
   "outputs": [],
   "source": [
    "class Tree:\n",
    "    \n",
    "    def __init__(self, rootkey):\n",
    "        #create a new tree while setting root\n",
    "        self.root = Node(rootkey, None, None, None)\n",
    "\n",
    "    def checkTree(self, key, parentKey, root):\n",
    "        #Recursive function that searches through tree to find if parentKey exists\n",
    "        # note that 'root' input is not necessarily the root of the tree ('self')\n",
    "        # 'root' is just where to start looking for the right parentKey to add this new node\n",
    "        if root == None:\n",
    "            #if there is no root in tree\n",
    "            return False\n",
    "        if root.key == parentKey:\n",
    "            if root.left_child == None or root.right_child == None:\n",
    "                # the node 'root' is the parent you should add the new child node to\n",
    "                return root \n",
    "            else:\n",
    "                print(\"Parent has two children, node not added.\")\n",
    "                return False\n",
    "        else:\n",
    "            for child in root.getChildren():\n",
    "                # check 'root' node's children if they are the parent you're looking for\n",
    "                add_temp = self.checkTree(key, parentKey, child)\n",
    "                if add_temp:\n",
    "                    return add_temp\n",
    "\n",
    "                \n",
    "# YOUR CODE GOES HERE\n",
    "    \n",
    "    def add(self,key,parentKey):\n",
    "        parent=self.checkTree(key,parentKey,self.root)\n",
    "        node=Node(key,None,None,parentKey)\n",
    "        rootNode=Node(key,None,None,None)\n",
    "        if self.root is None:\n",
    "            self.root=rootNode\n",
    "            return True\n",
    "        if parent!=False:\n",
    "            if parent.left_child is None:\n",
    "                parent.left_child=node\n",
    "                return True\n",
    "            elif parent.right_child is None:\n",
    "                parent.right_child=node\n",
    "                return True\n",
    "            else:\n",
    "                print(\"Parent has two children, node not added.\")\n",
    "                return False\n",
    "        else:\n",
    "            print(\"Parent not found.\")\n",
    "            return False\n",
    "\n",
    "\n",
    "    def findNodeDelete(self, key, root):\n",
    "        if root == None:\n",
    "            return False\n",
    "        if key == root.key:\n",
    "            if root.left_child == None and root.right_child == None:\n",
    "                if root.parent.left_child.key == key:\n",
    "                    root.parent.left_child = None\n",
    "                elif root.parent.right_child.key == key:\n",
    "                    root.parent.right_child = None\n",
    "                root = None\n",
    "                return True\n",
    "            else:\n",
    "                print(\"Node not deleted, has children\")\n",
    "                return False\n",
    "        else:\n",
    "            for child in root.getChildren():\n",
    "                delete_node = self.findNodeDelete(key, child)\n",
    "                if delete_node:\n",
    "                    return delete_node\n",
    "\n",
    "    def delete(self, key):\n",
    "        if self.root == None:\n",
    "            self.root = Node(key, None, None, None)\n",
    "        if key == self.root.key:\n",
    "            if self.root.left_child == None and self.root.right_child == None:\n",
    "                self.root = None\n",
    "                return True\n",
    "            else:\n",
    "                print(\"Node not deleted, has children\")\n",
    "                return False\n",
    "        else:\n",
    "            for child in self.root.getChildren():\n",
    "                delete_node = self.findNodeDelete(key, child)\n",
    "                if delete_node:\n",
    "                    return delete_node\n",
    "\n",
    "        print(\"Parent not found.\" )\n",
    "        return False\n",
    "\n",
    "    def printTree(self):\n",
    "        if self.root != None:\n",
    "            print(self.root.key)\n",
    "            for child in self.root.getChildren():\n",
    "                self.printBranch(child)\n",
    "        else: \n",
    "            return\n",
    "        \n",
    "    def printBranch(self, root):\n",
    "        if root == None:\n",
    "            return\n",
    "        else:\n",
    "            print(root.key)\n",
    "            for child in root.getChildren():\n",
    "                self.printBranch(child)"
   ]
  },
  {
   "cell_type": "markdown",
   "metadata": {},
   "source": [
    "### (3c)\n",
    "\n",
    "Use your `Tree` class to create an object representing the following binary tree. The numbers inside the vertices represent the node keys. The first line of code you get for free!\n",
    "\n",
    "<img src=\"http://drive.google.com/uc?export=view&id=1TL8p3Ibl9yBOZuChcAHSFO4b9YYJ6RUU\" alt=\"Drawing\" style=\"width: 400px;\"/>"
   ]
  },
  {
   "cell_type": "code",
   "execution_count": 43,
   "metadata": {},
   "outputs": [
    {
     "name": "stdout",
     "output_type": "stream",
     "text": [
      "0\n",
      "1\n",
      "3\n",
      "6\n",
      "7\n",
      "2\n",
      "4\n",
      "8\n",
      "11\n",
      "12\n",
      "9\n",
      "5\n",
      "10\n",
      "13\n"
     ]
    }
   ],
   "source": [
    "tree = Tree(0)\n",
    "tree.add(1,0)\n",
    "tree.add(2,0)\n",
    "tree.add(3,1)\n",
    "tree.add(4,2)\n",
    "tree.add(5,2)\n",
    "tree.add(6,3)\n",
    "tree.add(7,3)\n",
    "tree.add(8,4)\n",
    "tree.add(9,4)\n",
    "tree.add(10,5)\n",
    "tree.add(11,8)\n",
    "tree.add(12,8)\n",
    "tree.add(13,10)\n",
    "tree.printTree()"
   ]
  },
  {
   "cell_type": "markdown",
   "metadata": {},
   "source": [
    "### Test cases\n",
    "\n",
    "Note that these test cases are independent of the tasks above. The actual `Tests_Problem3()` are defined at the end of this notebook."
   ]
  },
  {
   "cell_type": "code",
   "execution_count": 44,
   "metadata": {},
   "outputs": [
    {
     "name": "stderr",
     "output_type": "stream",
     "text": [
      "..."
     ]
    },
    {
     "name": "stdout",
     "output_type": "stream",
     "text": [
      "Parent has two children, node not added.\n",
      "Parent not found.\n"
     ]
    },
    {
     "name": "stderr",
     "output_type": "stream",
     "text": [
      "\n",
      "----------------------------------------------------------------------\n",
      "Ran 3 tests in 0.002s\n",
      "\n",
      "OK\n"
     ]
    },
    {
     "data": {
      "text/plain": [
       "<unittest.runner.TextTestResult run=3 errors=0 failures=0>"
      ]
     },
     "execution_count": 44,
     "metadata": {},
     "output_type": "execute_result"
    }
   ],
   "source": [
    "# instantiation of your tests\n",
    "tests = Tests_Problem3()\n",
    "# load the tests\n",
    "tests_to_run = unittest.TestLoader().loadTestsFromModule(tests)\n",
    "# run the tests\n",
    "unittest.TextTestRunner().run(tests_to_run)"
   ]
  },
  {
   "cell_type": "markdown",
   "metadata": {},
   "source": [
    "<br><br>\n",
    "\n",
    "---\n",
    "\n",
    "\n",
    "## Problem 4\n",
    "\n",
    "### Graphs\n",
    "\n",
    "### (4a)\n",
    "\n",
    "Below is a partial `Graph` class implementation. There is a method to add a vertex to the graph, `addVertex`, but the code is missing functionality to add an edge or find a vertex. Modify the `Graph` class to include methods to add an edge and find a vertex by its value. Specifically:\n",
    "\n",
    "`addEdge(key1, key2)`\n",
    "* This method takes the key values of two vertices in the graph and adds an edge between them. If one or both of the vertices don’t exist in the graph, the method should print a message, \"One or more vertices not found.\" and do not add any edges.\n",
    "\n",
    "`findVertex(key)`\n",
    "* This method takes the key value of the vertex to search for, and if it’s found in the graph, prints and returns the key values of its adjacent vertices."
   ]
  },
  {
   "cell_type": "code",
   "execution_count": 16,
   "metadata": {},
   "outputs": [],
   "source": [
    "class Graph:\n",
    "    \n",
    "    def __init__(self):\n",
    "        self.vertices = {}\n",
    "\n",
    "    def addVertex(self, key):\n",
    "        # check if key value already exists\n",
    "        if key in self.vertices:\n",
    "            print(\"Vertex already exists\")\n",
    "        else:\n",
    "            self.vertices[key] = []\n",
    "\n",
    "# YOUR CODE GOES HERE\n",
    "    def addEdge(self, key1, key2):\n",
    "        if self.findVertex(key1)==False or self.findVertex(key2)==False:\n",
    "            print(\"One or more vertices not found.\")\n",
    "        else:\n",
    "            if key1 in self.vertices and key2 in self.vertices:\n",
    "                self.vertices[key1].append(key2)\n",
    "                self.vertices[key2].append(key1)\n",
    "    \n",
    "    def findVertex(self,key):\n",
    "        if key in self.vertices:\n",
    "            print(self.vertices[key])\n",
    "            return self.vertices[key]\n",
    "        return False"
   ]
  },
  {
   "cell_type": "markdown",
   "metadata": {},
   "source": [
    "### (4b)\n",
    "\n",
    "Use your `Graph` class to create an object representing the following undirected graph. The numbers inside the vertices represent the node keys. The first line of code you get for free!\n",
    "\n",
    "<img src=\"http://drive.google.com/uc?export=view&id=1Cy3RYh4aJxYBWIcE2axqzngGbcGSeTVV\" alt=\"Drawing\" style=\"width: 400px;\"/>"
   ]
  },
  {
   "cell_type": "code",
   "execution_count": 15,
   "metadata": {},
   "outputs": [
    {
     "name": "stdout",
     "output_type": "stream",
     "text": [
      "[]\n",
      "[]\n",
      "[0]\n",
      "[]\n",
      "[1]\n",
      "[]\n",
      "[3]\n",
      "[]\n",
      "[0, 3]\n",
      "[]\n",
      "[1]\n",
      "[8]\n",
      "[0, 3, 4]\n",
      "[]\n",
      "[1]\n",
      "[]\n",
      "[5]\n",
      "[8, 4]\n",
      "[1]\n",
      "[]\n",
      "[0]\n",
      "[]\n",
      "[2]\n",
      "[5, 10]\n",
      "[2, 6]\n",
      "[]\n",
      "[7]\n",
      "[8, 4, 6]\n"
     ]
    }
   ],
   "source": [
    "g = Graph()\n",
    "for i in range(0,11):\n",
    "    g.addVertex(i)\n",
    "g.addEdge(0,1)\n",
    "g.addEdge(1,3)\n",
    "g.addEdge(3,8)\n",
    "g.addEdge(8,10)\n",
    "g.addEdge(1,4)\n",
    "g.addEdge(4,10)\n",
    "g.addEdge(1,5)\n",
    "g.addEdge(5,6)\n",
    "g.addEdge(6,10)\n",
    "g.addEdge(0,2)\n",
    "g.addEdge(2,7)\n",
    "g.addEdge(7,6)\n",
    "g.addEdge(7,9)\n",
    "g.addEdge(9,10)"
   ]
  },
  {
   "cell_type": "markdown",
   "metadata": {},
   "source": [
    "### Test cases\n",
    "\n",
    "Note that these test cases are unrelated to the tasks above. The actual test cases are defined at the bottom of the notebook."
   ]
  },
  {
   "cell_type": "code",
   "execution_count": 19,
   "metadata": {},
   "outputs": [
    {
     "name": "stderr",
     "output_type": "stream",
     "text": [
      ".."
     ]
    },
    {
     "name": "stdout",
     "output_type": "stream",
     "text": [
      "[]\n",
      "[]\n",
      "[1]\n",
      "[]\n",
      "[]\n",
      "[]\n",
      "[1]\n",
      "[]\n",
      "[2]\n",
      "[1, 3]\n"
     ]
    },
    {
     "name": "stderr",
     "output_type": "stream",
     "text": [
      "\n",
      "----------------------------------------------------------------------\n",
      "Ran 2 tests in 0.003s\n",
      "\n",
      "OK\n"
     ]
    },
    {
     "data": {
      "text/plain": [
       "<unittest.runner.TextTestResult run=2 errors=0 failures=0>"
      ]
     },
     "execution_count": 19,
     "metadata": {},
     "output_type": "execute_result"
    }
   ],
   "source": [
    "# instantiation of your tests\n",
    "tests = Tests_Problem4()\n",
    "# load the tests\n",
    "tests_to_run = unittest.TestLoader().loadTestsFromModule(tests)\n",
    "# run the tests\n",
    "unittest.TextTestRunner().run(tests_to_run)"
   ]
  },
  {
   "cell_type": "markdown",
   "metadata": {},
   "source": [
    "---\n",
    "\n",
    "<br><br><br>\n",
    "\n",
    "<a id='helpers'></a>\n",
    "\n",
    "---\n",
    "\n",
    "[Back to top](#top)\n",
    "\n",
    "## Some things that are useful\n",
    "\n",
    "### `numpy`\n",
    "\n",
    "Generally, I will include some useful codes and/or packages down here.\n",
    "\n",
    "For this assignment - in particular, the `bigger` function - it might be useful to have `numpy` loaded."
   ]
  },
  {
   "cell_type": "code",
   "execution_count": null,
   "metadata": {},
   "outputs": [],
   "source": [
    "import numpy as np"
   ]
  },
  {
   "cell_type": "markdown",
   "metadata": {},
   "source": [
    "If you have never used Python before, when you import a package like we just did for `numpy`, you now have access to all of the functions in that package.\n",
    "\n",
    "We call a function from a package as follows:"
   ]
  },
  {
   "cell_type": "code",
   "execution_count": null,
   "metadata": {},
   "outputs": [],
   "source": [
    "numbers = [0,2,4,5]\n",
    "mean_of_numbers = np.mean(numbers)\n",
    "print(mean_of_numbers)"
   ]
  },
  {
   "cell_type": "markdown",
   "metadata": {},
   "source": [
    "The \"as np\" part of the `import` command means that we do not need to write out `numpy.mean()`; instead we can abbreviate our package names.  This especially comes in handy with longer package names.\n",
    "\n",
    "**Note:** You do not *need* to use `numpy` for any part of this assignment. I only provide it here because (1) it could be useful and I'm sure some folks will ask whether or not they are allowed to use it, and (2) it's a useful example of importing packages in Python."
   ]
  },
  {
   "cell_type": "markdown",
   "metadata": {},
   "source": [
    "### Test cases"
   ]
  },
  {
   "cell_type": "code",
   "execution_count": 18,
   "metadata": {},
   "outputs": [],
   "source": [
    "import unittest\n",
    "\n",
    "# set up the tests to run, as a sub-class of the unittest 'TestCase' class\n",
    "class Tests_Problem2(unittest.TestCase):\n",
    "    def setUp(self):\n",
    "        self.rhonda = Jedi('Rhonda')\n",
    "        self.chris = Jedi('Chris')\n",
    "        self.dan = Jedi('Dan')\n",
    "        for skill in ['bicycle-riding','sabermetrics','scepters']: self.rhonda.learn(skill)\n",
    "        for skill in ['buses','lightsabers','lightsabers']: self.chris.learn(skill)\n",
    "        for skill in ['bicycle-riding','corn-husking']: self.dan.learn(skill)\n",
    "    def test_skillset(self):\n",
    "        self.assertEqual(self.chris.checkSkills(), 2)\n",
    "    def test_duel(self):\n",
    "        self.assertEqual(self.chris.duel(self.dan), 'Tie')\n",
    "        winner = self.chris.duel(self.rhonda)\n",
    "        self.assertEqual(self.chris.isGhost, True)\n",
    "        self.assertEqual(winner, 'Rhonda')\n",
    "    def test_forget(self):\n",
    "        self.assertEqual(self.rhonda.forget(), 'scepters')\n",
    "\n",
    "class Tests_Problem3(unittest.TestCase):        \n",
    "    def setUp(self):\n",
    "        # one tree\n",
    "        self.t1 = Tree(1)\n",
    "        rv = self.t1.add(10,1)\n",
    "        # another tree\n",
    "        self.t2 = Tree(-1)\n",
    "        rv = self.t2.add(5,-1)\n",
    "        rv = self.t2.add(6,-1)\n",
    "    def test_node(self):\n",
    "        n = Node(key=1, r=2)\n",
    "        self.assertEqual(n.getChildren(), [None,2])\n",
    "        self.assertEqual(n.key, 1)\n",
    "    def test_tree_add_right(self):\n",
    "        rv = self.t1.add(11,1)\n",
    "        self.assertEqual(rv, True)\n",
    "        self.assertEqual(self.t1.root.left_child.key, 10)\n",
    "        self.assertEqual(self.t1.root.right_child.key, 11)\n",
    "    def test_tree_add_fail(self):\n",
    "        rv = self.t2.add(7,-1)\n",
    "        self.assertEqual(rv, False)\n",
    "        \n",
    "class Tests_Problem4(unittest.TestCase):        \n",
    "    def setUp(self):\n",
    "        self.g = Graph()\n",
    "        for v in range(0,4): self.g.addVertex(v)\n",
    "        self.g.addEdge(1,2)\n",
    "        self.g.addEdge(2,3)\n",
    "    def test_connections(self):\n",
    "        self.assertEqual(self.g.vertices[2], [1,3])\n",
    "        self.assertEqual(self.g.vertices[0], [])\n",
    "    def test_findvertex(self):\n",
    "        self.assertEqual(self.g.findVertex(3), [2])\n",
    "        self.assertEqual(self.g.findVertex(2), [1,3])\n",
    "        "
   ]
  }
 ],
 "metadata": {
  "kernelspec": {
   "display_name": "Python 3",
   "language": "python",
   "name": "python3"
  },
  "language_info": {
   "codemirror_mode": {
    "name": "ipython",
    "version": 3
   },
   "file_extension": ".py",
   "mimetype": "text/x-python",
   "name": "python",
   "nbconvert_exporter": "python",
   "pygments_lexer": "ipython3",
   "version": "3.7.4"
  }
 },
 "nbformat": 4,
 "nbformat_minor": 2
}
